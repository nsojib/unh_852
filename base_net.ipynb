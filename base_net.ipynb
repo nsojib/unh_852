{
 "cells": [
  {
   "cell_type": "code",
   "execution_count": 1,
   "metadata": {},
   "outputs": [
    {
     "name": "stdout",
     "output_type": "stream",
     "text": [
      "\u001b[33mROBOMIMIC WARNING(\n",
      "    No private macro file found!\n",
      "    It is recommended to use a private macro file\n",
      "    To setup, run: python /home/ns1254/mimicgen/envs/robomimic/robomimic/scripts/setup_macros.py\n",
      ")\u001b[0m\n"
     ]
    }
   ],
   "source": [
    "import os\n",
    "import json\n",
    "import h5py\n",
    "import numpy as np\n",
    "\n",
    "import robomimic\n",
    "import robomimic.utils.file_utils as FileUtils\n",
    "import robomimic.utils.env_utils as EnvUtils\n",
    "import robomimic.utils.obs_utils as ObsUtils\n",
    "import imageio\n",
    "\n",
    "import torch\n",
    "import torch.nn as nn\n",
    "import torch.nn.functional as F \n",
    "from torch.optim import Adam \n",
    "import torch\n",
    "from torchvision import transforms\n",
    "from torch.utils.data import Dataset, DataLoader\n",
    "from matplotlib import pyplot as plt\n",
    "from copy import deepcopy\n",
    "import datetime\n",
    "import tqdm"
   ]
  },
  {
   "cell_type": "code",
   "execution_count": 2,
   "metadata": {},
   "outputs": [
    {
     "name": "stdout",
     "output_type": "stream",
     "text": [
      "cuda:0\n"
     ]
    }
   ],
   "source": [
    "device= torch.device(\"cuda:0\" if torch.cuda.is_available() else \"cpu\")\n",
    "print(device)"
   ]
  },
  {
   "cell_type": "code",
   "execution_count": 3,
   "metadata": {},
   "outputs": [
    {
     "name": "stdout",
     "output_type": "stream",
     "text": [
      "Number of demos: 40\n"
     ]
    }
   ],
   "source": [
    "dataset_path = \"/home/ns1254/data_robomimic/nn/can_image_v141_20p.hdf5\"\n",
    "filter_key_train = \"20_percent_train\"\n",
    "filter_key_valid = \"20_percent_valid\"\n",
    "\n",
    "f = h5py.File(dataset_path, \"r\")\n",
    "demos = list(f[\"data\"].keys())\n",
    "num_demos = len(demos)\n",
    "print(f'Number of demos: {num_demos}')"
   ]
  },
  {
   "cell_type": "code",
   "execution_count": 4,
   "metadata": {},
   "outputs": [
    {
     "data": {
      "text/plain": [
       "<KeysViewHDF5 ['agentview_image', 'object', 'robot0_eef_pos', 'robot0_eef_quat', 'robot0_eef_vel_ang', 'robot0_eef_vel_lin', 'robot0_eye_in_hand_image', 'robot0_gripper_qpos', 'robot0_gripper_qvel', 'robot0_joint_pos', 'robot0_joint_pos_cos', 'robot0_joint_pos_sin', 'robot0_joint_vel']>"
      ]
     },
     "execution_count": 4,
     "metadata": {},
     "output_type": "execute_result"
    }
   ],
   "source": [
    "f['data'][demos[0]]['obs'].keys()"
   ]
  },
  {
   "cell_type": "code",
   "execution_count": 5,
   "metadata": {},
   "outputs": [],
   "source": [
    "select_keys=['agentview_image', 'robot0_eye_in_hand_image', 'robot0_eef_pos', 'robot0_eef_quat', 'robot0_gripper_qpos']"
   ]
  },
  {
   "cell_type": "code",
   "execution_count": 69,
   "metadata": {},
   "outputs": [
    {
     "name": "stdout",
     "output_type": "stream",
     "text": [
      "agentview_image (129, 84, 84, 3)\n",
      "robot0_eye_in_hand_image (129, 84, 84, 3)\n",
      "robot0_eef_pos (129, 3)\n",
      "robot0_eef_quat (129, 4)\n",
      "robot0_gripper_qpos (129, 2)\n"
     ]
    }
   ],
   "source": [
    "for key in select_keys:\n",
    "    print(key, f['data'][demos[0]]['obs'][key].shape)"
   ]
  },
  {
   "cell_type": "code",
   "execution_count": 6,
   "metadata": {},
   "outputs": [
    {
     "data": {
      "text/plain": [
       "(36, 4)"
      ]
     },
     "execution_count": 6,
     "metadata": {},
     "output_type": "execute_result"
    }
   ],
   "source": [
    "demos_train=[b.decode('utf-8') for b in f[\"mask\"][filter_key_train]]\n",
    "demos_valid=[b.decode('utf-8') for b in f[\"mask\"][filter_key_valid]]\n",
    "len(demos_train), len(demos_valid)"
   ]
  },
  {
   "cell_type": "code",
   "execution_count": 7,
   "metadata": {},
   "outputs": [],
   "source": [
    "def encode_multi_input_dumb(obss):\n",
    "    \"\"\"\n",
    "    obss: list of observations i.e. images, robot states etc.\n",
    "    return Tx -1\n",
    "    \"\"\"\n",
    "    T = obss[0].shape[0]  # length of the trajectory\n",
    "    return np.hstack([np.array(obs).reshape(T, -1) for obs in obss])"
   ]
  },
  {
   "cell_type": "code",
   "execution_count": 8,
   "metadata": {},
   "outputs": [],
   "source": [
    "def load_states_actions(f, demo_names):\n",
    "    actions_list=[]\n",
    "    obs_list=[]\n",
    "    for i,demo_id in enumerate(demo_names): \n",
    "        traj=f['data'][demo_id]\n",
    "    \n",
    "        actions=traj['actions']\n",
    "        select_obs=[traj['obs'][key] for key in select_keys] \n",
    "        actions_list.append(actions)\n",
    "        obs_list.append(select_obs)\n",
    "\n",
    "    all_states = np.vstack([encode_multi_input_dumb(obss) for obss in obs_list])\n",
    "    all_actions = np.vstack(actions_list)\n",
    "    return all_states, all_actions"
   ]
  },
  {
   "cell_type": "code",
   "execution_count": 9,
   "metadata": {},
   "outputs": [
    {
     "data": {
      "text/plain": [
       "((4177, 42345), (4177, 7), (440, 42345), (440, 7))"
      ]
     },
     "execution_count": 9,
     "metadata": {},
     "output_type": "execute_result"
    }
   ],
   "source": [
    "states_train, actions_train = load_states_actions(f, demos_train)\n",
    "states_valid, actions_valid = load_states_actions(f, demos_valid)\n",
    "states_train.shape, actions_train.shape, states_valid.shape, actions_valid.shape"
   ]
  },
  {
   "cell_type": "code",
   "execution_count": null,
   "metadata": {},
   "outputs": [],
   "source": []
  },
  {
   "cell_type": "code",
   "execution_count": 10,
   "metadata": {},
   "outputs": [
    {
     "data": {
      "text/plain": [
       "(torch.Size([128, 42345]), torch.Size([128, 7]))"
      ]
     },
     "execution_count": 10,
     "metadata": {},
     "output_type": "execute_result"
    }
   ],
   "source": [
    "data_loader_train = DataLoader( list(zip(states_train, actions_train)), batch_size=128, shuffle=True)\n",
    "data_loader_valid = DataLoader( list(zip(states_valid, actions_valid)), batch_size=128, shuffle=True)\n",
    "\n",
    "batch=next(iter(data_loader_train))\n",
    "states,actions = batch\n",
    "states.shape,actions.shape"
   ]
  },
  {
   "cell_type": "code",
   "execution_count": 11,
   "metadata": {},
   "outputs": [
    {
     "name": "stdout",
     "output_type": "stream",
     "text": [
      "42345 7\n"
     ]
    }
   ],
   "source": [
    "action_dim=actions.shape[1]\n",
    "state_dim=states.shape[1]\n",
    "print(state_dim, action_dim)"
   ]
  },
  {
   "cell_type": "code",
   "execution_count": 12,
   "metadata": {},
   "outputs": [],
   "source": [
    "class MLP(nn.Module):\n",
    "    def __init__(self, input_dim, layer_dims, action_dim):\n",
    "        super(MLP, self).__init__()\n",
    "        self.encoder= nn.ModuleList()\n",
    "        for i in range(len(layer_dims)):\n",
    "            if i==0: \n",
    "                self.encoder.append(nn.Linear(input_dim, layer_dims[i]))\n",
    "            else:\n",
    "                self.encoder.append(nn.Linear(layer_dims[i-1], layer_dims[i]))\n",
    "            self.encoder.append(nn.ReLU())\n",
    "\n",
    "        self.dropout = nn.Dropout(0.2)\n",
    "        self.decoder = nn.Linear(layer_dims[-1], action_dim)\n",
    "\n",
    "    def forward(self,x):\n",
    "        for module in self.encoder:\n",
    "            x = module(x)\n",
    "        x = self.dropout(x)\n",
    "        x = self.decoder(x)\n",
    "        return x "
   ]
  },
  {
   "cell_type": "code",
   "execution_count": 13,
   "metadata": {},
   "outputs": [],
   "source": [
    "learning_rate = 1e-5\n",
    "\n",
    "bc = MLP(state_dim, [1024, 256], action_dim).to(device)\n",
    "criterion = nn.MSELoss() \n",
    "optimizer = Adam(bc.parameters(), lr = learning_rate)"
   ]
  },
  {
   "cell_type": "code",
   "execution_count": 14,
   "metadata": {},
   "outputs": [
    {
     "name": "stderr",
     "output_type": "stream",
     "text": [
      " 10%|█         | 20/200 [00:10<01:24,  2.12it/s]"
     ]
    },
    {
     "name": "stdout",
     "output_type": "stream",
     "text": [
      "Epoch 20 Train.Loss: 0.1627 Valid.Loss: 0.1386\n"
     ]
    },
    {
     "name": "stderr",
     "output_type": "stream",
     "text": [
      " 20%|██        | 40/200 [00:20<01:14,  2.14it/s]"
     ]
    },
    {
     "name": "stdout",
     "output_type": "stream",
     "text": [
      "Epoch 40 Train.Loss: 0.1319 Valid.Loss: 0.1132\n"
     ]
    },
    {
     "name": "stderr",
     "output_type": "stream",
     "text": [
      " 30%|███       | 60/200 [00:30<01:17,  1.81it/s]"
     ]
    },
    {
     "name": "stdout",
     "output_type": "stream",
     "text": [
      "Epoch 60 Train.Loss: 0.1186 Valid.Loss: 0.0968\n"
     ]
    },
    {
     "name": "stderr",
     "output_type": "stream",
     "text": [
      " 40%|████      | 80/200 [00:41<01:09,  1.72it/s]"
     ]
    },
    {
     "name": "stdout",
     "output_type": "stream",
     "text": [
      "Epoch 80 Train.Loss: 0.1063 Valid.Loss: 0.0914\n"
     ]
    },
    {
     "name": "stderr",
     "output_type": "stream",
     "text": [
      " 50%|█████     | 100/200 [00:52<00:53,  1.86it/s]"
     ]
    },
    {
     "name": "stdout",
     "output_type": "stream",
     "text": [
      "Epoch 100 Train.Loss: 0.0984 Valid.Loss: 0.0843\n"
     ]
    },
    {
     "name": "stderr",
     "output_type": "stream",
     "text": [
      " 60%|██████    | 120/200 [01:03<00:40,  1.96it/s]"
     ]
    },
    {
     "name": "stdout",
     "output_type": "stream",
     "text": [
      "Epoch 120 Train.Loss: 0.0929 Valid.Loss: 0.0829\n"
     ]
    },
    {
     "name": "stderr",
     "output_type": "stream",
     "text": [
      " 70%|███████   | 140/200 [01:12<00:27,  2.17it/s]"
     ]
    },
    {
     "name": "stdout",
     "output_type": "stream",
     "text": [
      "Epoch 140 Train.Loss: 0.0899 Valid.Loss: 0.0870\n"
     ]
    },
    {
     "name": "stderr",
     "output_type": "stream",
     "text": [
      " 80%|████████  | 160/200 [01:21<00:18,  2.16it/s]"
     ]
    },
    {
     "name": "stdout",
     "output_type": "stream",
     "text": [
      "Epoch 160 Train.Loss: 0.0914 Valid.Loss: 0.0806\n"
     ]
    },
    {
     "name": "stderr",
     "output_type": "stream",
     "text": [
      " 90%|█████████ | 180/200 [01:31<00:09,  2.15it/s]"
     ]
    },
    {
     "name": "stdout",
     "output_type": "stream",
     "text": [
      "Epoch 180 Train.Loss: 0.1017 Valid.Loss: 0.0845\n"
     ]
    },
    {
     "name": "stderr",
     "output_type": "stream",
     "text": [
      "100%|██████████| 200/200 [01:40<00:00,  1.99it/s]"
     ]
    },
    {
     "name": "stdout",
     "output_type": "stream",
     "text": [
      "Epoch 200 Train.Loss: 0.0938 Valid.Loss: 0.0679\n"
     ]
    },
    {
     "name": "stderr",
     "output_type": "stream",
     "text": [
      "\n"
     ]
    }
   ],
   "source": [
    "loss_list = [] \n",
    "n_epoch = 200\n",
    "losses=[]\n",
    "losses_valid=[]\n",
    "for itr in tqdm.tqdm(range(1, n_epoch+1)):\n",
    "    bc.train()\n",
    "    train_loss = 0\n",
    "    b=0\n",
    "    for batch_states, batch_actions in data_loader_train: \n",
    "        batch_states = batch_states.to(device)\n",
    "        batch_actions = batch_actions.to(device)\n",
    "        y_pred = bc(batch_states.float())\n",
    "        loss   = criterion(y_pred, batch_actions.float()) \n",
    "        train_loss += loss.item() \n",
    "        optimizer.zero_grad()\n",
    "        loss.backward()\n",
    "        optimizer.step()\n",
    "        b += 1  \n",
    "        loss_list.append(loss.item()) \n",
    "    \n",
    "    train_loss=train_loss/b\n",
    "    losses.append(train_loss)\n",
    " \n",
    "    \n",
    "    bc.eval()\n",
    "    valid_loss=0\n",
    "    b=0\n",
    "    with torch.no_grad():\n",
    "        for batch_states, batch_actions in data_loader_valid: \n",
    "            batch_states = batch_states.to(device)\n",
    "            batch_actions = batch_actions.to(device)\n",
    "            y_pred = bc(batch_states.float())\n",
    "            loss   = criterion(y_pred, batch_actions.float()) \n",
    "            valid_loss += loss.item() \n",
    "            b += 1\n",
    "    valid_loss=valid_loss/b\n",
    "    losses_valid.append(valid_loss)\n",
    "    \n",
    "    if itr % (n_epoch//10) == 0:\n",
    "        print(f'Epoch {itr} Train.Loss: {train_loss:.4f} Valid.Loss: {valid_loss:.4f}')"
   ]
  },
  {
   "cell_type": "code",
   "execution_count": null,
   "metadata": {},
   "outputs": [],
   "source": []
  },
  {
   "cell_type": "code",
   "execution_count": 68,
   "metadata": {},
   "outputs": [
    {
     "data": {
      "text/plain": [
       "<matplotlib.legend.Legend at 0x7f1e14e0e4c0>"
      ]
     },
     "execution_count": 68,
     "metadata": {},
     "output_type": "execute_result"
    },
    {
     "data": {
      "image/png": "[encoded data removed]",
      "text/plain": [
       "<Figure size 640x480 with 1 Axes>"
      ]
     },
     "metadata": {},
     "output_type": "display_data"
    }
   ],
   "source": [
    "plt.plot(losses[1:], label='train')\n",
    "plt.plot(losses_valid, label='valid')\n",
    "plt.legend()"
   ]
  },
  {
   "cell_type": "code",
   "execution_count": null,
   "metadata": {},
   "outputs": [],
   "source": []
  },
  {
   "cell_type": "code",
   "execution_count": 31,
   "metadata": {},
   "outputs": [],
   "source": [
    "env_meta = json.loads(f[\"data\"].attrs[\"env_args\"])"
   ]
  },
  {
   "cell_type": "code",
   "execution_count": 32,
   "metadata": {},
   "outputs": [
    {
     "data": {
      "text/plain": [
       "{'env_name': 'PickPlaceCan',\n",
       " 'env_version': '1.4.1',\n",
       " 'type': 1,\n",
       " 'env_kwargs': {'has_renderer': False,\n",
       "  'has_offscreen_renderer': True,\n",
       "  'ignore_done': True,\n",
       "  'use_object_obs': True,\n",
       "  'use_camera_obs': True,\n",
       "  'control_freq': 20,\n",
       "  'controller_configs': {'type': 'OSC_POSE',\n",
       "   'input_max': 1,\n",
       "   'input_min': -1,\n",
       "   'output_max': [0.05, 0.05, 0.05, 0.5, 0.5, 0.5],\n",
       "   'output_min': [-0.05, -0.05, -0.05, -0.5, -0.5, -0.5],\n",
       "   'kp': 150,\n",
       "   'damping': 1,\n",
       "   'impedance_mode': 'fixed',\n",
       "   'kp_limits': [0, 300],\n",
       "   'damping_limits': [0, 10],\n",
       "   'position_limits': None,\n",
       "   'orientation_limits': None,\n",
       "   'uncouple_pos_ori': True,\n",
       "   'control_delta': True,\n",
       "   'interpolation': None,\n",
       "   'ramp_ratio': 0.2},\n",
       "  'robots': ['Panda'],\n",
       "  'camera_depths': False,\n",
       "  'camera_heights': 84,\n",
       "  'camera_widths': 84,\n",
       "  'reward_shaping': False,\n",
       "  'camera_names': ['agentview', 'robot0_eye_in_hand'],\n",
       "  'render_gpu_device_id': 0}}"
      ]
     },
     "execution_count": 32,
     "metadata": {},
     "output_type": "execute_result"
    }
   ],
   "source": [
    "env_meta"
   ]
  },
  {
   "cell_type": "code",
   "execution_count": null,
   "metadata": {},
   "outputs": [
    {
     "name": "stdout",
     "output_type": "stream",
     "text": [
      "Created environment with name PickPlaceCan\n",
      "Action size is 7\n"
     ]
    }
   ],
   "source": [
    "env = EnvUtils.create_env_from_metadata(\n",
    "    env_meta=env_meta,  \n",
    "    render=False, \n",
    "    render_offscreen=True,\n",
    "    use_image_obs=True,\n",
    "    use_depth_obs=False,\n",
    ")\n",
    "dummy_spec = dict(  obs=dict( low_dim=['robot0_eef_pos', 'robot0_eef_quat', 'robot0_gripper_qpos'], rgb=['agentview_image', 'robot0_eye_in_hand_image'], ),)\n",
    "ObsUtils.initialize_obs_utils_with_obs_specs(obs_modality_specs=dummy_spec)"
   ]
  },
  {
   "cell_type": "code",
   "execution_count": null,
   "metadata": {},
   "outputs": [],
   "source": []
  },
  {
   "cell_type": "code",
   "execution_count": 63,
   "metadata": {},
   "outputs": [],
   "source": [
    "def rollout(env, rollout_horizon = 400, video_path=None):\n",
    "    total_reward=0 \n",
    "    select_keys=['agentview_image', 'robot0_eye_in_hand_image', 'robot0_eef_pos', 'robot0_eef_quat', 'robot0_gripper_qpos']\n",
    "\n",
    "    obs = env.reset()\n",
    "    state_dict = env.get_state()\n",
    "    # hack that is necessary for robosuite tasks for deterministic action playback\n",
    "    obs = env.reset_to(state_dict)\n",
    "\n",
    "    if video_path is not None:\n",
    "        video_writer = imageio.get_writer(video_path, fps=20)\n",
    "        print(f\"Writing video to {video_path}\")\n",
    "    camera_names=[\"agentview\"]\n",
    "\n",
    "    for step_i in range(rollout_horizon):\n",
    "        obss=[obs[key][None,] for key in select_keys] \n",
    "\n",
    "        select_obs=encode_multi_input_dumb(obss)\n",
    "\n",
    "        state=torch.from_numpy(select_obs).float()\n",
    "        # state=state.to(device='cuda')\n",
    "\n",
    "        act = bc(state.to(device)).detach().cpu().numpy()\n",
    "        next_obs, r, done, _ = env.step(act.squeeze())\n",
    "\n",
    "        # compute reward\n",
    "        total_reward += r\n",
    "        success = env.is_success()[\"task\"]\n",
    "\n",
    "        if video_path is not None:\n",
    "            video_img = env.render(mode=\"rgb_array\", height=512, width=512, camera_name=\"agentview\")\n",
    "            video_writer.append_data(video_img)\n",
    "\n",
    "\n",
    "        # break if done or if success\n",
    "        if done or success:\n",
    "            # print(f'stop: done={done} success={success}')\n",
    "            break\n",
    "\n",
    "        # update for next iter\n",
    "        obs = deepcopy(next_obs)\n",
    "\n",
    "    if video_path is not None:\n",
    "        video_writer.close()\n",
    "    return total_reward"
   ]
  },
  {
   "cell_type": "code",
   "execution_count": null,
   "metadata": {},
   "outputs": [],
   "source": []
  },
  {
   "cell_type": "code",
   "execution_count": 64,
   "metadata": {},
   "outputs": [
    {
     "name": "stdout",
     "output_type": "stream",
     "text": [
      "Rollout 0 Success: 0.0\n",
      "Rollout 1 Success: 0.0\n",
      "Rollout 2 Success: 0.0\n",
      "Rollout 3 Success: 0.0\n",
      "Rollout 4 Success: 0.0\n",
      "Rollout 5 Success: 0.0\n",
      "Rollout 6 Success: 0.0\n",
      "Rollout 7 Success: 0.0\n",
      "Rollout 8 Success: 0.0\n",
      "Rollout 9 Success: 0.0\n",
      "Rollout 10 Success: 0.0\n",
      "Rollout 11 Success: 0.0\n",
      "Rollout 12 Success: 0.0\n",
      "Rollout 13 Success: 0.0\n",
      "Rollout 14 Success: 0.0\n",
      "Rollout 15 Success: 0.0\n",
      "Rollout 16 Success: 0.0\n",
      "Rollout 17 Success: 0.0\n",
      "Rollout 18 Success: 0.0\n",
      "Rollout 19 Success: 0.0\n",
      "\n",
      "Average Reward: 0.00\n"
     ]
    }
   ],
   "source": [
    "n_rollout=20\n",
    "s=0\n",
    "for i in range(n_rollout):\n",
    "    r=rollout(env, video_path=None)\n",
    "    s+=r\n",
    "    print(f'Rollout {i} Success: {r}')\n",
    "\n",
    "print(f'\\nAverage Reward: {s/n_rollout:.2f}')"
   ]
  },
  {
   "cell_type": "code",
   "execution_count": 66,
   "metadata": {},
   "outputs": [
    {
     "name": "stdout",
     "output_type": "stream",
     "text": [
      "Writing video to can_bc.mp4\n"
     ]
    },
    {
     "data": {
      "text/plain": [
       "0.0"
      ]
     },
     "execution_count": 66,
     "metadata": {},
     "output_type": "execute_result"
    }
   ],
   "source": [
    "r=rollout(env, video_path=\"can_bc.mp4\")\n",
    "r"
   ]
  },
  {
   "cell_type": "code",
   "execution_count": null,
   "metadata": {},
   "outputs": [],
   "source": []
  },
  {
   "cell_type": "code",
   "execution_count": null,
   "metadata": {},
   "outputs": [],
   "source": []
  },
  {
   "cell_type": "code",
   "execution_count": null,
   "metadata": {},
   "outputs": [],
   "source": []
  },
  {
   "cell_type": "code",
   "execution_count": null,
   "metadata": {},
   "outputs": [],
   "source": []
  },
  {
   "cell_type": "code",
   "execution_count": null,
   "metadata": {},
   "outputs": [],
   "source": []
  },
  {
   "cell_type": "code",
   "execution_count": null,
   "metadata": {},
   "outputs": [],
   "source": []
  }
 ],
 "metadata": {
  "kernelspec": {
   "display_name": "Python 3",
   "language": "python",
   "name": "python3"
  },
  "language_info": {
   "codemirror_mode": {
    "name": "ipython",
    "version": 3
   },
   "file_extension": ".py",
   "mimetype": "text/x-python",
   "name": "python",
   "nbconvert_exporter": "python",
   "pygments_lexer": "ipython3",
   "version": "3.8.19"
  }
 },
 "nbformat": 4,
 "nbformat_minor": 2
}
