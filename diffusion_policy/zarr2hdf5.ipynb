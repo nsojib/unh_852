{
 "cells": [
  {
   "cell_type": "code",
   "execution_count": 1,
   "metadata": {},
   "outputs": [],
   "source": [
    "# diffusion policy zarr fromat to robomimic hdf5 format"
   ]
  },
  {
   "cell_type": "code",
   "execution_count": 1,
   "metadata": {},
   "outputs": [],
   "source": [
    "import numpy as np\n",
    "import zarr \n",
    "import h5py\n",
    "from matplotlib import pyplot as plt"
   ]
  },
  {
   "cell_type": "code",
   "execution_count": 2,
   "metadata": {},
   "outputs": [
    {
     "name": "stdout",
     "output_type": "stream",
     "text": [
      "data\n",
      "meta\n",
      "meta: episode_ends (206,)\n",
      "data: action (25650, 2)\n",
      "data: img (25650, 96, 96, 3)\n",
      "data: keypoint (25650, 9, 2)\n",
      "data: n_contacts (25650, 1)\n",
      "data: state (25650, 5)\n"
     ]
    }
   ],
   "source": [
    "dataset_path = \"data/pusht/pusht_cchi_v7_replay.zarr\"\n",
    "dataset_zarr = zarr.open(dataset_path, 'r')\n",
    "\n",
    "for key in dataset_zarr.keys():\n",
    "    print(key )\n",
    "\n",
    "for key in dataset_zarr['meta']:\n",
    "    print('meta:', key, dataset_zarr['meta'][key].shape)\n",
    "\n",
    "for key in dataset_zarr['data'].keys():\n",
    "    print('data:', key, dataset_zarr['data'][key].shape) "
   ]
  },
  {
   "cell_type": "code",
   "execution_count": 3,
   "metadata": {},
   "outputs": [],
   "source": [
    "episode_ends=dataset_zarr['meta']['episode_ends'][:]\n",
    "action=dataset_zarr['data']['action'][:]\n",
    "img=dataset_zarr['data']['img'][:].astype(np.uint8)\n",
    "keypoint=dataset_zarr['data']['keypoint'][:]\n",
    "n_contacts=dataset_zarr['data']['n_contacts'][:]\n",
    "state=dataset_zarr['data']['state'][:]"
   ]
  },
  {
   "cell_type": "code",
   "execution_count": 4,
   "metadata": {},
   "outputs": [],
   "source": [
    "episode_starts = np.concatenate(([0], episode_ends[:-1]))"
   ]
  },
  {
   "cell_type": "code",
   "execution_count": 5,
   "metadata": {},
   "outputs": [
    {
     "data": {
      "text/plain": [
       "(array([   0,  161,  279,  420,  579,  738,  895,  964, 1133, 1213]),\n",
       " array([ 161,  279,  420,  579,  738,  895,  964, 1133, 1213, 1347]))"
      ]
     },
     "execution_count": 5,
     "metadata": {},
     "output_type": "execute_result"
    }
   ],
   "source": [
    "episode_starts[:10], episode_ends[:10]"
   ]
  },
  {
   "cell_type": "code",
   "execution_count": 6,
   "metadata": {},
   "outputs": [
    {
     "data": {
      "text/plain": [
       "(array([25059, 25151, 25318, 25468, 25601]),\n",
       " array([25151, 25318, 25468, 25601, 25650]))"
      ]
     },
     "execution_count": 6,
     "metadata": {},
     "output_type": "execute_result"
    }
   ],
   "source": [
    "episode_starts[-5:], episode_ends[-5:]"
   ]
  },
  {
   "cell_type": "code",
   "execution_count": 7,
   "metadata": {},
   "outputs": [],
   "source": [
    "def get_episode(episode_idx):\n",
    "    start = episode_starts[episode_idx]\n",
    "    end = episode_ends[episode_idx]\n",
    "    actions=action[start:end]\n",
    "    dactions = np.diff(actions, axis=0)\n",
    "    dactions = np.concatenate([dactions, np.zeros((1, 2))], axis=0)\n",
    "    return {\n",
    "        'action': action[start:end],\n",
    "        'daction': dactions,\n",
    "        'img': img[start:end],\n",
    "        'keypoint': keypoint[start:end],\n",
    "        'n_contacts': n_contacts[start:end],\n",
    "        'state': state[start:end],\n",
    "        'agent_pos': state[start:end, :2],\n",
    "    }"
   ]
  },
  {
   "cell_type": "code",
   "execution_count": 8,
   "metadata": {},
   "outputs": [
    {
     "data": {
      "text/plain": [
       "((161, 2), (161, 2), (161, 96, 96, 3))"
      ]
     },
     "execution_count": 8,
     "metadata": {},
     "output_type": "execute_result"
    }
   ],
   "source": [
    "episode = get_episode(0)\n",
    "episode['action'].shape, episode['daction'].shape, episode['img'].shape"
   ]
  },
  {
   "cell_type": "code",
   "execution_count": null,
   "metadata": {},
   "outputs": [],
   "source": []
  },
  {
   "cell_type": "code",
   "execution_count": 9,
   "metadata": {},
   "outputs": [
    {
     "data": {
      "text/plain": [
       "206"
      ]
     },
     "execution_count": 9,
     "metadata": {},
     "output_type": "execute_result"
    }
   ],
   "source": [
    "n_episode=len(episode_starts)\n",
    "n_episode"
   ]
  },
  {
   "cell_type": "code",
   "execution_count": 10,
   "metadata": {},
   "outputs": [],
   "source": [
    "hdf5_file_name='pusht_v7_zarr_206.hdf5'\n",
    "\n",
    "env_args = \"\" \n",
    "f_sub = h5py.File(hdf5_file_name, \"w\")\n",
    "f_sub.create_group(\"data\")\n",
    "f_sub.create_group(\"mask\")\n",
    "f_sub[\"data\"].attrs[\"env_args\"] = env_args\n",
    "f_sub.close()"
   ]
  },
  {
   "cell_type": "code",
   "execution_count": 11,
   "metadata": {},
   "outputs": [
    {
     "name": "stdout",
     "output_type": "stream",
     "text": [
      "saving demo /data/demo_0 to pusht_v7_zarr_206.hdf5\n",
      "saving demo /data/demo_1 to pusht_v7_zarr_206.hdf5\n",
      "saving demo /data/demo_2 to pusht_v7_zarr_206.hdf5\n",
      "saving demo /data/demo_3 to pusht_v7_zarr_206.hdf5\n",
      "saving demo /data/demo_4 to pusht_v7_zarr_206.hdf5\n",
      "saving demo /data/demo_5 to pusht_v7_zarr_206.hdf5\n",
      "saving demo /data/demo_6 to pusht_v7_zarr_206.hdf5\n",
      "saving demo /data/demo_7 to pusht_v7_zarr_206.hdf5\n",
      "saving demo /data/demo_8 to pusht_v7_zarr_206.hdf5\n",
      "saving demo /data/demo_9 to pusht_v7_zarr_206.hdf5\n",
      "saving demo /data/demo_10 to pusht_v7_zarr_206.hdf5\n",
      "saving demo /data/demo_11 to pusht_v7_zarr_206.hdf5\n",
      "saving demo /data/demo_12 to pusht_v7_zarr_206.hdf5\n",
      "saving demo /data/demo_13 to pusht_v7_zarr_206.hdf5\n",
      "saving demo /data/demo_14 to pusht_v7_zarr_206.hdf5\n",
      "saving demo /data/demo_15 to pusht_v7_zarr_206.hdf5\n",
      "saving demo /data/demo_16 to pusht_v7_zarr_206.hdf5\n",
      "saving demo /data/demo_17 to pusht_v7_zarr_206.hdf5\n",
      "saving demo /data/demo_18 to pusht_v7_zarr_206.hdf5\n",
      "saving demo /data/demo_19 to pusht_v7_zarr_206.hdf5\n",
      "saving demo /data/demo_20 to pusht_v7_zarr_206.hdf5\n",
      "saving demo /data/demo_21 to pusht_v7_zarr_206.hdf5\n",
      "saving demo /data/demo_22 to pusht_v7_zarr_206.hdf5\n",
      "saving demo /data/demo_23 to pusht_v7_zarr_206.hdf5\n",
      "saving demo /data/demo_24 to pusht_v7_zarr_206.hdf5\n",
      "saving demo /data/demo_25 to pusht_v7_zarr_206.hdf5\n",
      "saving demo /data/demo_26 to pusht_v7_zarr_206.hdf5\n",
      "saving demo /data/demo_27 to pusht_v7_zarr_206.hdf5\n",
      "saving demo /data/demo_28 to pusht_v7_zarr_206.hdf5\n",
      "saving demo /data/demo_29 to pusht_v7_zarr_206.hdf5\n",
      "saving demo /data/demo_30 to pusht_v7_zarr_206.hdf5\n",
      "saving demo /data/demo_31 to pusht_v7_zarr_206.hdf5\n",
      "saving demo /data/demo_32 to pusht_v7_zarr_206.hdf5\n",
      "saving demo /data/demo_33 to pusht_v7_zarr_206.hdf5\n",
      "saving demo /data/demo_34 to pusht_v7_zarr_206.hdf5\n",
      "saving demo /data/demo_35 to pusht_v7_zarr_206.hdf5\n",
      "saving demo /data/demo_36 to pusht_v7_zarr_206.hdf5\n",
      "saving demo /data/demo_37 to pusht_v7_zarr_206.hdf5\n",
      "saving demo /data/demo_38 to pusht_v7_zarr_206.hdf5\n",
      "saving demo /data/demo_39 to pusht_v7_zarr_206.hdf5\n",
      "saving demo /data/demo_40 to pusht_v7_zarr_206.hdf5\n",
      "saving demo /data/demo_41 to pusht_v7_zarr_206.hdf5\n",
      "saving demo /data/demo_42 to pusht_v7_zarr_206.hdf5\n",
      "saving demo /data/demo_43 to pusht_v7_zarr_206.hdf5\n",
      "saving demo /data/demo_44 to pusht_v7_zarr_206.hdf5\n",
      "saving demo /data/demo_45 to pusht_v7_zarr_206.hdf5\n",
      "saving demo /data/demo_46 to pusht_v7_zarr_206.hdf5\n",
      "saving demo /data/demo_47 to pusht_v7_zarr_206.hdf5\n",
      "saving demo /data/demo_48 to pusht_v7_zarr_206.hdf5\n",
      "saving demo /data/demo_49 to pusht_v7_zarr_206.hdf5\n",
      "saving demo /data/demo_50 to pusht_v7_zarr_206.hdf5\n",
      "saving demo /data/demo_51 to pusht_v7_zarr_206.hdf5\n",
      "saving demo /data/demo_52 to pusht_v7_zarr_206.hdf5\n",
      "saving demo /data/demo_53 to pusht_v7_zarr_206.hdf5\n",
      "saving demo /data/demo_54 to pusht_v7_zarr_206.hdf5\n",
      "saving demo /data/demo_55 to pusht_v7_zarr_206.hdf5\n",
      "saving demo /data/demo_56 to pusht_v7_zarr_206.hdf5\n",
      "saving demo /data/demo_57 to pusht_v7_zarr_206.hdf5\n",
      "saving demo /data/demo_58 to pusht_v7_zarr_206.hdf5\n",
      "saving demo /data/demo_59 to pusht_v7_zarr_206.hdf5\n",
      "saving demo /data/demo_60 to pusht_v7_zarr_206.hdf5\n",
      "saving demo /data/demo_61 to pusht_v7_zarr_206.hdf5\n",
      "saving demo /data/demo_62 to pusht_v7_zarr_206.hdf5\n",
      "saving demo /data/demo_63 to pusht_v7_zarr_206.hdf5\n",
      "saving demo /data/demo_64 to pusht_v7_zarr_206.hdf5\n",
      "saving demo /data/demo_65 to pusht_v7_zarr_206.hdf5\n",
      "saving demo /data/demo_66 to pusht_v7_zarr_206.hdf5\n",
      "saving demo /data/demo_67 to pusht_v7_zarr_206.hdf5\n",
      "saving demo /data/demo_68 to pusht_v7_zarr_206.hdf5\n",
      "saving demo /data/demo_69 to pusht_v7_zarr_206.hdf5\n",
      "saving demo /data/demo_70 to pusht_v7_zarr_206.hdf5\n",
      "saving demo /data/demo_71 to pusht_v7_zarr_206.hdf5\n",
      "saving demo /data/demo_72 to pusht_v7_zarr_206.hdf5\n",
      "saving demo /data/demo_73 to pusht_v7_zarr_206.hdf5\n",
      "saving demo /data/demo_74 to pusht_v7_zarr_206.hdf5\n",
      "saving demo /data/demo_75 to pusht_v7_zarr_206.hdf5\n",
      "saving demo /data/demo_76 to pusht_v7_zarr_206.hdf5\n",
      "saving demo /data/demo_77 to pusht_v7_zarr_206.hdf5\n",
      "saving demo /data/demo_78 to pusht_v7_zarr_206.hdf5\n",
      "saving demo /data/demo_79 to pusht_v7_zarr_206.hdf5\n",
      "saving demo /data/demo_80 to pusht_v7_zarr_206.hdf5\n",
      "saving demo /data/demo_81 to pusht_v7_zarr_206.hdf5\n",
      "saving demo /data/demo_82 to pusht_v7_zarr_206.hdf5\n",
      "saving demo /data/demo_83 to pusht_v7_zarr_206.hdf5\n",
      "saving demo /data/demo_84 to pusht_v7_zarr_206.hdf5\n",
      "saving demo /data/demo_85 to pusht_v7_zarr_206.hdf5\n",
      "saving demo /data/demo_86 to pusht_v7_zarr_206.hdf5\n",
      "saving demo /data/demo_87 to pusht_v7_zarr_206.hdf5\n",
      "saving demo /data/demo_88 to pusht_v7_zarr_206.hdf5\n",
      "saving demo /data/demo_89 to pusht_v7_zarr_206.hdf5\n",
      "saving demo /data/demo_90 to pusht_v7_zarr_206.hdf5\n",
      "saving demo /data/demo_91 to pusht_v7_zarr_206.hdf5\n",
      "saving demo /data/demo_92 to pusht_v7_zarr_206.hdf5\n",
      "saving demo /data/demo_93 to pusht_v7_zarr_206.hdf5\n",
      "saving demo /data/demo_94 to pusht_v7_zarr_206.hdf5\n",
      "saving demo /data/demo_95 to pusht_v7_zarr_206.hdf5\n",
      "saving demo /data/demo_96 to pusht_v7_zarr_206.hdf5\n",
      "saving demo /data/demo_97 to pusht_v7_zarr_206.hdf5\n",
      "saving demo /data/demo_98 to pusht_v7_zarr_206.hdf5\n",
      "saving demo /data/demo_99 to pusht_v7_zarr_206.hdf5\n",
      "saving demo /data/demo_100 to pusht_v7_zarr_206.hdf5\n",
      "saving demo /data/demo_101 to pusht_v7_zarr_206.hdf5\n",
      "saving demo /data/demo_102 to pusht_v7_zarr_206.hdf5\n",
      "saving demo /data/demo_103 to pusht_v7_zarr_206.hdf5\n",
      "saving demo /data/demo_104 to pusht_v7_zarr_206.hdf5\n",
      "saving demo /data/demo_105 to pusht_v7_zarr_206.hdf5\n",
      "saving demo /data/demo_106 to pusht_v7_zarr_206.hdf5\n",
      "saving demo /data/demo_107 to pusht_v7_zarr_206.hdf5\n",
      "saving demo /data/demo_108 to pusht_v7_zarr_206.hdf5\n",
      "saving demo /data/demo_109 to pusht_v7_zarr_206.hdf5\n",
      "saving demo /data/demo_110 to pusht_v7_zarr_206.hdf5\n",
      "saving demo /data/demo_111 to pusht_v7_zarr_206.hdf5\n",
      "saving demo /data/demo_112 to pusht_v7_zarr_206.hdf5\n",
      "saving demo /data/demo_113 to pusht_v7_zarr_206.hdf5\n",
      "saving demo /data/demo_114 to pusht_v7_zarr_206.hdf5\n",
      "saving demo /data/demo_115 to pusht_v7_zarr_206.hdf5\n",
      "saving demo /data/demo_116 to pusht_v7_zarr_206.hdf5\n",
      "saving demo /data/demo_117 to pusht_v7_zarr_206.hdf5\n",
      "saving demo /data/demo_118 to pusht_v7_zarr_206.hdf5\n",
      "saving demo /data/demo_119 to pusht_v7_zarr_206.hdf5\n",
      "saving demo /data/demo_120 to pusht_v7_zarr_206.hdf5\n",
      "saving demo /data/demo_121 to pusht_v7_zarr_206.hdf5\n",
      "saving demo /data/demo_122 to pusht_v7_zarr_206.hdf5\n",
      "saving demo /data/demo_123 to pusht_v7_zarr_206.hdf5\n",
      "saving demo /data/demo_124 to pusht_v7_zarr_206.hdf5\n",
      "saving demo /data/demo_125 to pusht_v7_zarr_206.hdf5\n",
      "saving demo /data/demo_126 to pusht_v7_zarr_206.hdf5\n",
      "saving demo /data/demo_127 to pusht_v7_zarr_206.hdf5\n",
      "saving demo /data/demo_128 to pusht_v7_zarr_206.hdf5\n",
      "saving demo /data/demo_129 to pusht_v7_zarr_206.hdf5\n",
      "saving demo /data/demo_130 to pusht_v7_zarr_206.hdf5\n",
      "saving demo /data/demo_131 to pusht_v7_zarr_206.hdf5\n",
      "saving demo /data/demo_132 to pusht_v7_zarr_206.hdf5\n",
      "saving demo /data/demo_133 to pusht_v7_zarr_206.hdf5\n",
      "saving demo /data/demo_134 to pusht_v7_zarr_206.hdf5\n",
      "saving demo /data/demo_135 to pusht_v7_zarr_206.hdf5\n",
      "saving demo /data/demo_136 to pusht_v7_zarr_206.hdf5\n",
      "saving demo /data/demo_137 to pusht_v7_zarr_206.hdf5\n",
      "saving demo /data/demo_138 to pusht_v7_zarr_206.hdf5\n",
      "saving demo /data/demo_139 to pusht_v7_zarr_206.hdf5\n",
      "saving demo /data/demo_140 to pusht_v7_zarr_206.hdf5\n",
      "saving demo /data/demo_141 to pusht_v7_zarr_206.hdf5\n",
      "saving demo /data/demo_142 to pusht_v7_zarr_206.hdf5\n",
      "saving demo /data/demo_143 to pusht_v7_zarr_206.hdf5\n",
      "saving demo /data/demo_144 to pusht_v7_zarr_206.hdf5\n",
      "saving demo /data/demo_145 to pusht_v7_zarr_206.hdf5\n",
      "saving demo /data/demo_146 to pusht_v7_zarr_206.hdf5\n",
      "saving demo /data/demo_147 to pusht_v7_zarr_206.hdf5\n",
      "saving demo /data/demo_148 to pusht_v7_zarr_206.hdf5\n",
      "saving demo /data/demo_149 to pusht_v7_zarr_206.hdf5\n",
      "saving demo /data/demo_150 to pusht_v7_zarr_206.hdf5\n",
      "saving demo /data/demo_151 to pusht_v7_zarr_206.hdf5\n",
      "saving demo /data/demo_152 to pusht_v7_zarr_206.hdf5\n",
      "saving demo /data/demo_153 to pusht_v7_zarr_206.hdf5\n",
      "saving demo /data/demo_154 to pusht_v7_zarr_206.hdf5\n",
      "saving demo /data/demo_155 to pusht_v7_zarr_206.hdf5\n",
      "saving demo /data/demo_156 to pusht_v7_zarr_206.hdf5\n",
      "saving demo /data/demo_157 to pusht_v7_zarr_206.hdf5\n",
      "saving demo /data/demo_158 to pusht_v7_zarr_206.hdf5\n",
      "saving demo /data/demo_159 to pusht_v7_zarr_206.hdf5\n",
      "saving demo /data/demo_160 to pusht_v7_zarr_206.hdf5\n",
      "saving demo /data/demo_161 to pusht_v7_zarr_206.hdf5\n",
      "saving demo /data/demo_162 to pusht_v7_zarr_206.hdf5\n",
      "saving demo /data/demo_163 to pusht_v7_zarr_206.hdf5\n",
      "saving demo /data/demo_164 to pusht_v7_zarr_206.hdf5\n",
      "saving demo /data/demo_165 to pusht_v7_zarr_206.hdf5\n",
      "saving demo /data/demo_166 to pusht_v7_zarr_206.hdf5\n",
      "saving demo /data/demo_167 to pusht_v7_zarr_206.hdf5\n",
      "saving demo /data/demo_168 to pusht_v7_zarr_206.hdf5\n",
      "saving demo /data/demo_169 to pusht_v7_zarr_206.hdf5\n",
      "saving demo /data/demo_170 to pusht_v7_zarr_206.hdf5\n",
      "saving demo /data/demo_171 to pusht_v7_zarr_206.hdf5\n",
      "saving demo /data/demo_172 to pusht_v7_zarr_206.hdf5\n",
      "saving demo /data/demo_173 to pusht_v7_zarr_206.hdf5\n",
      "saving demo /data/demo_174 to pusht_v7_zarr_206.hdf5\n",
      "saving demo /data/demo_175 to pusht_v7_zarr_206.hdf5\n",
      "saving demo /data/demo_176 to pusht_v7_zarr_206.hdf5\n",
      "saving demo /data/demo_177 to pusht_v7_zarr_206.hdf5\n",
      "saving demo /data/demo_178 to pusht_v7_zarr_206.hdf5\n",
      "saving demo /data/demo_179 to pusht_v7_zarr_206.hdf5\n",
      "saving demo /data/demo_180 to pusht_v7_zarr_206.hdf5\n",
      "saving demo /data/demo_181 to pusht_v7_zarr_206.hdf5\n",
      "saving demo /data/demo_182 to pusht_v7_zarr_206.hdf5\n",
      "saving demo /data/demo_183 to pusht_v7_zarr_206.hdf5\n",
      "saving demo /data/demo_184 to pusht_v7_zarr_206.hdf5\n",
      "saving demo /data/demo_185 to pusht_v7_zarr_206.hdf5\n",
      "saving demo /data/demo_186 to pusht_v7_zarr_206.hdf5\n",
      "saving demo /data/demo_187 to pusht_v7_zarr_206.hdf5\n",
      "saving demo /data/demo_188 to pusht_v7_zarr_206.hdf5\n",
      "saving demo /data/demo_189 to pusht_v7_zarr_206.hdf5\n",
      "saving demo /data/demo_190 to pusht_v7_zarr_206.hdf5\n",
      "saving demo /data/demo_191 to pusht_v7_zarr_206.hdf5\n",
      "saving demo /data/demo_192 to pusht_v7_zarr_206.hdf5\n",
      "saving demo /data/demo_193 to pusht_v7_zarr_206.hdf5\n",
      "saving demo /data/demo_194 to pusht_v7_zarr_206.hdf5\n",
      "saving demo /data/demo_195 to pusht_v7_zarr_206.hdf5\n",
      "saving demo /data/demo_196 to pusht_v7_zarr_206.hdf5\n",
      "saving demo /data/demo_197 to pusht_v7_zarr_206.hdf5\n",
      "saving demo /data/demo_198 to pusht_v7_zarr_206.hdf5\n",
      "saving demo /data/demo_199 to pusht_v7_zarr_206.hdf5\n",
      "saving demo /data/demo_200 to pusht_v7_zarr_206.hdf5\n",
      "saving demo /data/demo_201 to pusht_v7_zarr_206.hdf5\n",
      "saving demo /data/demo_202 to pusht_v7_zarr_206.hdf5\n",
      "saving demo /data/demo_203 to pusht_v7_zarr_206.hdf5\n",
      "saving demo /data/demo_204 to pusht_v7_zarr_206.hdf5\n",
      "saving demo /data/demo_205 to pusht_v7_zarr_206.hdf5\n"
     ]
    }
   ],
   "source": [
    "for demo_no in range(n_episode):\n",
    "    episode = get_episode(demo_no)\n",
    "\n",
    "    demo_group=f\"/data/demo_{demo_no}\"\n",
    "    print(f'saving demo {demo_group} to {hdf5_file_name}')\n",
    "    with h5py.File(hdf5_file_name, 'a') as hf:\n",
    "        group = hf.create_group(demo_group) \n",
    "        group.attrs['num_samples'] = episode['action'].shape[0]\n",
    "        group.create_dataset('obs/img', data=episode['img'])      \n",
    "        group.create_dataset('obs/state', data=episode['state'])\n",
    "        group.create_dataset('obs/keypoint', data=episode['keypoint'])\n",
    "        group.create_dataset('obs/n_contacts', data=episode['n_contacts'])\n",
    "        group.create_dataset('obs/agent_pos', data=episode['agent_pos'])\n",
    "        group.create_dataset('daction', data=episode['daction'])\n",
    "        group.create_dataset('action', data=   episode['action'])"
   ]
  },
  {
   "cell_type": "code",
   "execution_count": null,
   "metadata": {},
   "outputs": [],
   "source": []
  },
  {
   "cell_type": "markdown",
   "metadata": {},
   "source": [
    "### load hdf5 file"
   ]
  },
  {
   "cell_type": "code",
   "execution_count": 12,
   "metadata": {},
   "outputs": [
    {
     "name": "stdout",
     "output_type": "stream",
     "text": [
      "<KeysViewHDF5 ['data', 'mask']>\n",
      "<KeysViewHDF5 ['demo_0', 'demo_1', 'demo_10', 'demo_100', 'demo_101', 'demo_102', 'demo_103', 'demo_104', 'demo_105', 'demo_106', 'demo_107', 'demo_108', 'demo_109', 'demo_11', 'demo_110', 'demo_111', 'demo_112', 'demo_113', 'demo_114', 'demo_115', 'demo_116', 'demo_117', 'demo_118', 'demo_119', 'demo_12', 'demo_120', 'demo_121', 'demo_122', 'demo_123', 'demo_124', 'demo_125', 'demo_126', 'demo_127', 'demo_128', 'demo_129', 'demo_13', 'demo_130', 'demo_131', 'demo_132', 'demo_133', 'demo_134', 'demo_135', 'demo_136', 'demo_137', 'demo_138', 'demo_139', 'demo_14', 'demo_140', 'demo_141', 'demo_142', 'demo_143', 'demo_144', 'demo_145', 'demo_146', 'demo_147', 'demo_148', 'demo_149', 'demo_15', 'demo_150', 'demo_151', 'demo_152', 'demo_153', 'demo_154', 'demo_155', 'demo_156', 'demo_157', 'demo_158', 'demo_159', 'demo_16', 'demo_160', 'demo_161', 'demo_162', 'demo_163', 'demo_164', 'demo_165', 'demo_166', 'demo_167', 'demo_168', 'demo_169', 'demo_17', 'demo_170', 'demo_171', 'demo_172', 'demo_173', 'demo_174', 'demo_175', 'demo_176', 'demo_177', 'demo_178', 'demo_179', 'demo_18', 'demo_180', 'demo_181', 'demo_182', 'demo_183', 'demo_184', 'demo_185', 'demo_186', 'demo_187', 'demo_188', 'demo_189', 'demo_19', 'demo_190', 'demo_191', 'demo_192', 'demo_193', 'demo_194', 'demo_195', 'demo_196', 'demo_197', 'demo_198', 'demo_199', 'demo_2', 'demo_20', 'demo_200', 'demo_201', 'demo_202', 'demo_203', 'demo_204', 'demo_205', 'demo_21', 'demo_22', 'demo_23', 'demo_24', 'demo_25', 'demo_26', 'demo_27', 'demo_28', 'demo_29', 'demo_3', 'demo_30', 'demo_31', 'demo_32', 'demo_33', 'demo_34', 'demo_35', 'demo_36', 'demo_37', 'demo_38', 'demo_39', 'demo_4', 'demo_40', 'demo_41', 'demo_42', 'demo_43', 'demo_44', 'demo_45', 'demo_46', 'demo_47', 'demo_48', 'demo_49', 'demo_5', 'demo_50', 'demo_51', 'demo_52', 'demo_53', 'demo_54', 'demo_55', 'demo_56', 'demo_57', 'demo_58', 'demo_59', 'demo_6', 'demo_60', 'demo_61', 'demo_62', 'demo_63', 'demo_64', 'demo_65', 'demo_66', 'demo_67', 'demo_68', 'demo_69', 'demo_7', 'demo_70', 'demo_71', 'demo_72', 'demo_73', 'demo_74', 'demo_75', 'demo_76', 'demo_77', 'demo_78', 'demo_79', 'demo_8', 'demo_80', 'demo_81', 'demo_82', 'demo_83', 'demo_84', 'demo_85', 'demo_86', 'demo_87', 'demo_88', 'demo_89', 'demo_9', 'demo_90', 'demo_91', 'demo_92', 'demo_93', 'demo_94', 'demo_95', 'demo_96', 'demo_97', 'demo_98', 'demo_99']>\n",
      "<KeysViewHDF5 ['action', 'daction', 'obs']>\n",
      "<KeysViewHDF5 ['agent_pos', 'img', 'keypoint', 'n_contacts', 'state']>\n",
      "(118, 96, 96, 3)\n",
      "(118, 5)\n"
     ]
    }
   ],
   "source": [
    "hdf5_file_name='pusht_v7_zarr_206.hdf5'\n",
    "\n",
    "f=h5py.File(hdf5_file_name, 'r')\n",
    "print(f.keys())\n",
    "print(f['data'].keys())\n",
    "print(f['data']['demo_1'].keys())\n",
    "print(f['data']['demo_1']['obs'].keys())\n",
    "print(f['data']['demo_1']['obs']['img'].shape)\n",
    "print(f['data']['demo_1']['obs']['state'].shape)"
   ]
  },
  {
   "cell_type": "code",
   "execution_count": 13,
   "metadata": {},
   "outputs": [
    {
     "data": {
      "text/plain": [
       "206"
      ]
     },
     "execution_count": 13,
     "metadata": {},
     "output_type": "execute_result"
    }
   ],
   "source": [
    "len(f['data'].keys())"
   ]
  },
  {
   "cell_type": "code",
   "execution_count": 14,
   "metadata": {},
   "outputs": [
    {
     "data": {
      "text/plain": [
       "(118, 96, 96, 3)"
      ]
     },
     "execution_count": 14,
     "metadata": {},
     "output_type": "execute_result"
    }
   ],
   "source": [
    "img=f['data']['demo_1']['obs']['img'][:] \n",
    "img.shape"
   ]
  },
  {
   "cell_type": "code",
   "execution_count": 15,
   "metadata": {},
   "outputs": [
    {
     "data": {
      "text/plain": [
       "(65, 255)"
      ]
     },
     "execution_count": 15,
     "metadata": {},
     "output_type": "execute_result"
    }
   ],
   "source": [
    "img0=img[10].astype(np.uint8)\n",
    "np.min(img0), np.max(img0)  "
   ]
  },
  {
   "cell_type": "code",
   "execution_count": 16,
   "metadata": {},
   "outputs": [
    {
     "data": {
      "text/plain": [
       "<matplotlib.image.AxesImage at 0x7f8f548bf370>"
      ]
     },
     "execution_count": 16,
     "metadata": {},
     "output_type": "execute_result"
    },
    {
     "data": {
      "image/png": "[encoded data removed]",
      "text/plain": [
       "<Figure size 640x480 with 1 Axes>"
      ]
     },
     "metadata": {},
     "output_type": "display_data"
    }
   ],
   "source": [
    "plt.imshow(img0)"
   ]
  },
  {
   "cell_type": "code",
   "execution_count": 17,
   "metadata": {},
   "outputs": [],
   "source": [
    "import imageio \n",
    "imageio.mimsave('pusht_v7_zarr_206.mp4', img,  fps=10)"
   ]
  },
  {
   "cell_type": "code",
   "execution_count": null,
   "metadata": {},
   "outputs": [],
   "source": [
    " "
   ]
  },
  {
   "cell_type": "code",
   "execution_count": null,
   "metadata": {},
   "outputs": [],
   "source": []
  },
  {
   "cell_type": "code",
   "execution_count": null,
   "metadata": {},
   "outputs": [],
   "source": []
  },
  {
   "cell_type": "code",
   "execution_count": null,
   "metadata": {},
   "outputs": [],
   "source": []
  }
 ],
 "metadata": {
  "kernelspec": {
   "display_name": "Python 3",
   "language": "python",
   "name": "python3"
  },
  "language_info": {
   "codemirror_mode": {
    "name": "ipython",
    "version": 3
   },
   "file_extension": ".py",
   "mimetype": "text/x-python",
   "name": "python",
   "nbconvert_exporter": "python",
   "pygments_lexer": "ipython3",
   "version": "3.9.18"
  }
 },
 "nbformat": 4,
 "nbformat_minor": 2
}
