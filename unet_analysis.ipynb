{
 "cells": [
  {
   "cell_type": "code",
   "execution_count": 1,
   "metadata": {},
   "outputs": [
    {
     "name": "stderr",
     "output_type": "stream",
     "text": [
      "/home/ns1254/miniforge3/envs/robodiff/lib/python3.9/site-packages/tqdm/auto.py:22: TqdmWarning: IProgress not found. Please update jupyter and ipywidgets. See https://ipywidgets.readthedocs.io/en/stable/user_install.html\n",
      "  from .autonotebook import tqdm as notebook_tqdm\n"
     ]
    },
    {
     "name": "stdout",
     "output_type": "stream",
     "text": [
      "pygame 2.1.2 (SDL 2.0.16, Python 3.9.18)\n",
      "Hello from the pygame community. https://www.pygame.org/contribute.html\n"
     ]
    },
    {
     "name": "stderr",
     "output_type": "stream",
     "text": [
      "/home/ns1254/miniforge3/envs/robodiff/lib/python3.9/site-packages/torchvision/io/image.py:13: UserWarning: Failed to load image Python extension: libtorch_cuda_cu.so: cannot open shared object file: No such file or directory\n",
      "  warn(f\"Failed to load image Python extension: {e}\")\n"
     ]
    }
   ],
   "source": [
    "from typing import Tuple, Sequence, Dict, Union, Optional, Callable\n",
    "import numpy as np\n",
    "import math\n",
    "import torch\n",
    "import torch.nn as nn\n",
    "from diffusers.optimization import get_scheduler\n",
    "from tqdm.auto import tqdm\n",
    "\n",
    "import gym\n",
    "from gym import spaces\n",
    "import pygame\n",
    "import pymunk\n",
    "import pymunk.pygame_util\n",
    "from pymunk.space_debug_draw_options import SpaceDebugColor\n",
    "from pymunk.vec2d import Vec2d\n",
    "import shapely.geometry as sg\n",
    "import cv2\n",
    "import skimage.transform as st\n",
    "from skvideo.io import vwrite\n",
    "from IPython.display import Video\n",
    "import gdown\n",
    "import os\n",
    "\n",
    "\n",
    "# from diffusion_policy.env.pusht.pusht_image_env import PushTImageEnv\n",
    "import imageio \n",
    "import torch\n",
    "import torch.nn as nn\n",
    "import torch.nn.functional as F\n",
    "\n",
    "import h5py\n",
    "\n",
    "from diffusion_policy.pusht_data_utils import get_data_stats, normalize_data, unnormalize_data, PushTImageDatasetFromHDF5\n",
    "from diffusion_policy.vision_model import ResidualBlock, ResNetFe, replace_bn_with_gn\n",
    "from diffusion_policy.noise_predictor_model import ConditionalUnet1D\n",
    "from diffusion_policy.myddpm import MyScheduler, MyDDPM"
   ]
  },
  {
   "cell_type": "code",
   "execution_count": 2,
   "metadata": {},
   "outputs": [
    {
     "data": {
      "text/plain": [
       "device(type='cuda')"
      ]
     },
     "execution_count": 2,
     "metadata": {},
     "output_type": "execute_result"
    }
   ],
   "source": [
    "pred_horizon = 16\n",
    "obs_horizon = 2\n",
    "action_horizon = 8\n",
    "\n",
    "device = torch.device(\"cuda\" if torch.cuda.is_available() else \"cpu\")\n",
    "device "
   ]
  },
  {
   "cell_type": "code",
   "execution_count": 3,
   "metadata": {},
   "outputs": [],
   "source": [
    "hdf5_file_name='data/pusht/pusht_v7_zarr_206.hdf5'\n",
    "dataset = PushTImageDatasetFromHDF5(\n",
    "    hdf5_file_name=hdf5_file_name,\n",
    "    pred_horizon=pred_horizon,\n",
    "    obs_horizon=obs_horizon,\n",
    "    action_horizon=action_horizon,\n",
    "    hdf5_filter_key=\"f50\"\n",
    ")\n",
    "stats=dataset.stats"
   ]
  },
  {
   "cell_type": "code",
   "execution_count": 4,
   "metadata": {},
   "outputs": [
    {
     "data": {
      "text/plain": [
       "(torch.Size([64, 2, 3, 96, 96]),\n",
       " torch.Size([64, 2, 2]),\n",
       " torch.Size([64, 16, 2]))"
      ]
     },
     "execution_count": 4,
     "metadata": {},
     "output_type": "execute_result"
    }
   ],
   "source": [
    "dataloader = torch.utils.data.DataLoader(\n",
    "    dataset,\n",
    "    batch_size=64,\n",
    "    num_workers=4,\n",
    "    shuffle=True,\n",
    "    # accelerate cpu-gpu transfer\n",
    "    pin_memory=True,\n",
    "    # don't kill worker process afte each epoch\n",
    "    persistent_workers=True\n",
    ")\n",
    "\n",
    "batch = next(iter(dataloader))\n",
    "batch['image'].shape, batch['agent_pos'].shape, batch['action'].shape"
   ]
  },
  {
   "cell_type": "code",
   "execution_count": 5,
   "metadata": {},
   "outputs": [],
   "source": [
    "vision_encoder = ResNetFe(ResidualBlock, [2, 2]) \n",
    "vision_encoder = replace_bn_with_gn(vision_encoder)"
   ]
  },
  {
   "cell_type": "code",
   "execution_count": 6,
   "metadata": {},
   "outputs": [
    {
     "name": "stdout",
     "output_type": "stream",
     "text": [
      "ConditionalUnet1D: number of parameters: 7.994727e+07\n"
     ]
    }
   ],
   "source": [
    "vision_feature_dim = 512\n",
    "lowdim_obs_dim = 2\n",
    "\n",
    "obs_dim = vision_feature_dim + lowdim_obs_dim\n",
    "action_dim = 2\n",
    "\n",
    "noise_pred_net = ConditionalUnet1D(\n",
    "    input_dim=action_dim,\n",
    "    global_cond_dim=obs_dim*obs_horizon\n",
    ")\n",
    "\n",
    "nets = nn.ModuleDict({\n",
    "    'vision_encoder': vision_encoder,\n",
    "    'noise_pred_net': noise_pred_net\n",
    "})\n",
    "\n",
    "_ = nets.to(device)\n",
    "\n",
    "num_diffusion_iters = 100\n",
    "sample_shape=(pred_horizon, action_dim) \n",
    "\n",
    "noise_scheduler=MyScheduler(T=num_diffusion_iters, device=device)\n",
    "ddpm=MyDDPM(noise_scheduler, nets['noise_pred_net'], device=device)"
   ]
  },
  {
   "cell_type": "code",
   "execution_count": 7,
   "metadata": {},
   "outputs": [],
   "source": [
    "nbatch = next(iter(dataloader))"
   ]
  },
  {
   "cell_type": "code",
   "execution_count": 8,
   "metadata": {},
   "outputs": [],
   "source": [
    "nimage = nbatch['image'][:,:obs_horizon].to(device)\n",
    "nagent_pos = nbatch['agent_pos'][:,:obs_horizon].to(device)\n",
    "naction = nbatch['action'].to(device)\n",
    "B = nagent_pos.shape[0]"
   ]
  },
  {
   "cell_type": "code",
   "execution_count": 9,
   "metadata": {},
   "outputs": [
    {
     "data": {
      "text/plain": [
       "torch.Size([64, 2, 3, 96, 96])"
      ]
     },
     "execution_count": 9,
     "metadata": {},
     "output_type": "execute_result"
    }
   ],
   "source": [
    "nimage.shape"
   ]
  },
  {
   "cell_type": "code",
   "execution_count": 10,
   "metadata": {},
   "outputs": [
    {
     "name": "stderr",
     "output_type": "stream",
     "text": [
      "/home/ns1254/miniforge3/envs/robodiff/lib/python3.9/site-packages/torch/nn/modules/conv.py:456: UserWarning: Applied workaround for CuDNN issue, install nvrtc.so (Triggered internally at ../aten/src/ATen/native/cudnn/Conv_v8.cpp:80.)\n",
      "  return F.conv2d(input, weight, bias, self.stride,\n"
     ]
    },
    {
     "data": {
      "text/plain": [
       "(torch.Size([64, 2, 512]), torch.Size([64, 2, 2]))"
      ]
     },
     "execution_count": 10,
     "metadata": {},
     "output_type": "execute_result"
    }
   ],
   "source": [
    "image_features = nets['vision_encoder'](nimage.flatten(end_dim=1))\n",
    "image_features = image_features.reshape(*nimage.shape[:2],-1)\n",
    "# (B,obs_horizon,D)\n",
    "image_features.shape, nagent_pos.shape"
   ]
  },
  {
   "cell_type": "code",
   "execution_count": 11,
   "metadata": {},
   "outputs": [
    {
     "data": {
      "text/plain": [
       "torch.Size([64, 1028])"
      ]
     },
     "execution_count": 11,
     "metadata": {},
     "output_type": "execute_result"
    }
   ],
   "source": [
    "# concatenate vision feature and low-dim obs\n",
    "obs_features = torch.cat([image_features, nagent_pos], dim=-1)\n",
    "obs_cond = obs_features.flatten(start_dim=1)\n",
    "# (B, obs_horizon * obs_dim)\n",
    "obs_cond.shape"
   ]
  },
  {
   "cell_type": "code",
   "execution_count": 12,
   "metadata": {},
   "outputs": [
    {
     "data": {
      "text/plain": [
       "(torch.Size([64, 16, 2]), torch.Size([64, 16, 2]), torch.Size([64]))"
      ]
     },
     "execution_count": 12,
     "metadata": {},
     "output_type": "execute_result"
    }
   ],
   "source": [
    "timesteps = torch.randint(0, noise_scheduler.T,(B,), device=device).long()\n",
    "noisy_actions , eps= noise_scheduler.get_xt(naction, timesteps)\n",
    "noisy_actions.shape, eps.shape, timesteps.shape"
   ]
  },
  {
   "cell_type": "code",
   "execution_count": 13,
   "metadata": {},
   "outputs": [
    {
     "data": {
      "text/plain": [
       "torch.Size([64, 16, 2])"
      ]
     },
     "execution_count": 13,
     "metadata": {},
     "output_type": "execute_result"
    }
   ],
   "source": [
    "eps_theta = noise_pred_net(noisy_actions, timesteps, global_cond=obs_cond)\n",
    "eps_theta.shape"
   ]
  },
  {
   "cell_type": "code",
   "execution_count": 14,
   "metadata": {},
   "outputs": [
    {
     "data": {
      "text/plain": [
       "Sequential(\n",
       "  (0): SinusoidalPosEmb()\n",
       "  (1): Linear(in_features=256, out_features=1024, bias=True)\n",
       "  (2): Mish()\n",
       "  (3): Linear(in_features=1024, out_features=256, bias=True)\n",
       ")"
      ]
     },
     "execution_count": 14,
     "metadata": {},
     "output_type": "execute_result"
    }
   ],
   "source": [
    "noise_pred_net.diffusion_step_encoder"
   ]
  },
  {
   "cell_type": "code",
   "execution_count": 15,
   "metadata": {},
   "outputs": [
    {
     "data": {
      "text/plain": [
       "ModuleList(\n",
       "  (0): ModuleList(\n",
       "    (0): ConditionalResidualBlock1D(\n",
       "      (blocks): ModuleList(\n",
       "        (0): Conv1dBlock(\n",
       "          (block): Sequential(\n",
       "            (0): Conv1d(2048, 512, kernel_size=(5,), stride=(1,), padding=(2,))\n",
       "            (1): GroupNorm(8, 512, eps=1e-05, affine=True)\n",
       "            (2): Mish()\n",
       "          )\n",
       "        )\n",
       "        (1): Conv1dBlock(\n",
       "          (block): Sequential(\n",
       "            (0): Conv1d(512, 512, kernel_size=(5,), stride=(1,), padding=(2,))\n",
       "            (1): GroupNorm(8, 512, eps=1e-05, affine=True)\n",
       "            (2): Mish()\n",
       "          )\n",
       "        )\n",
       "      )\n",
       "      (cond_encoder): Sequential(\n",
       "        (0): Mish()\n",
       "        (1): Linear(in_features=1284, out_features=1024, bias=True)\n",
       "        (2): Unflatten(dim=-1, unflattened_size=(-1, 1))\n",
       "      )\n",
       "      (residual_conv): Conv1d(2048, 512, kernel_size=(1,), stride=(1,))\n",
       "    )\n",
       "    (1): ConditionalResidualBlock1D(\n",
       "      (blocks): ModuleList(\n",
       "        (0-1): 2 x Conv1dBlock(\n",
       "          (block): Sequential(\n",
       "            (0): Conv1d(512, 512, kernel_size=(5,), stride=(1,), padding=(2,))\n",
       "            (1): GroupNorm(8, 512, eps=1e-05, affine=True)\n",
       "            (2): Mish()\n",
       "          )\n",
       "        )\n",
       "      )\n",
       "      (cond_encoder): Sequential(\n",
       "        (0): Mish()\n",
       "        (1): Linear(in_features=1284, out_features=1024, bias=True)\n",
       "        (2): Unflatten(dim=-1, unflattened_size=(-1, 1))\n",
       "      )\n",
       "      (residual_conv): Identity()\n",
       "    )\n",
       "    (2): Upsample1d(\n",
       "      (conv): ConvTranspose1d(512, 512, kernel_size=(4,), stride=(2,), padding=(1,))\n",
       "    )\n",
       "  )\n",
       "  (1): ModuleList(\n",
       "    (0): ConditionalResidualBlock1D(\n",
       "      (blocks): ModuleList(\n",
       "        (0): Conv1dBlock(\n",
       "          (block): Sequential(\n",
       "            (0): Conv1d(1024, 256, kernel_size=(5,), stride=(1,), padding=(2,))\n",
       "            (1): GroupNorm(8, 256, eps=1e-05, affine=True)\n",
       "            (2): Mish()\n",
       "          )\n",
       "        )\n",
       "        (1): Conv1dBlock(\n",
       "          (block): Sequential(\n",
       "            (0): Conv1d(256, 256, kernel_size=(5,), stride=(1,), padding=(2,))\n",
       "            (1): GroupNorm(8, 256, eps=1e-05, affine=True)\n",
       "            (2): Mish()\n",
       "          )\n",
       "        )\n",
       "      )\n",
       "      (cond_encoder): Sequential(\n",
       "        (0): Mish()\n",
       "        (1): Linear(in_features=1284, out_features=512, bias=True)\n",
       "        (2): Unflatten(dim=-1, unflattened_size=(-1, 1))\n",
       "      )\n",
       "      (residual_conv): Conv1d(1024, 256, kernel_size=(1,), stride=(1,))\n",
       "    )\n",
       "    (1): ConditionalResidualBlock1D(\n",
       "      (blocks): ModuleList(\n",
       "        (0-1): 2 x Conv1dBlock(\n",
       "          (block): Sequential(\n",
       "            (0): Conv1d(256, 256, kernel_size=(5,), stride=(1,), padding=(2,))\n",
       "            (1): GroupNorm(8, 256, eps=1e-05, affine=True)\n",
       "            (2): Mish()\n",
       "          )\n",
       "        )\n",
       "      )\n",
       "      (cond_encoder): Sequential(\n",
       "        (0): Mish()\n",
       "        (1): Linear(in_features=1284, out_features=512, bias=True)\n",
       "        (2): Unflatten(dim=-1, unflattened_size=(-1, 1))\n",
       "      )\n",
       "      (residual_conv): Identity()\n",
       "    )\n",
       "    (2): Upsample1d(\n",
       "      (conv): ConvTranspose1d(256, 256, kernel_size=(4,), stride=(2,), padding=(1,))\n",
       "    )\n",
       "  )\n",
       ")"
      ]
     },
     "execution_count": 15,
     "metadata": {},
     "output_type": "execute_result"
    }
   ],
   "source": [
    "noise_pred_net.up_modules"
   ]
  },
  {
   "cell_type": "code",
   "execution_count": 16,
   "metadata": {},
   "outputs": [
    {
     "data": {
      "text/plain": [
       "ModuleList(\n",
       "  (0): ModuleList(\n",
       "    (0): ConditionalResidualBlock1D(\n",
       "      (blocks): ModuleList(\n",
       "        (0): Conv1dBlock(\n",
       "          (block): Sequential(\n",
       "            (0): Conv1d(2, 256, kernel_size=(5,), stride=(1,), padding=(2,))\n",
       "            (1): GroupNorm(8, 256, eps=1e-05, affine=True)\n",
       "            (2): Mish()\n",
       "          )\n",
       "        )\n",
       "        (1): Conv1dBlock(\n",
       "          (block): Sequential(\n",
       "            (0): Conv1d(256, 256, kernel_size=(5,), stride=(1,), padding=(2,))\n",
       "            (1): GroupNorm(8, 256, eps=1e-05, affine=True)\n",
       "            (2): Mish()\n",
       "          )\n",
       "        )\n",
       "      )\n",
       "      (cond_encoder): Sequential(\n",
       "        (0): Mish()\n",
       "        (1): Linear(in_features=1284, out_features=512, bias=True)\n",
       "        (2): Unflatten(dim=-1, unflattened_size=(-1, 1))\n",
       "      )\n",
       "      (residual_conv): Conv1d(2, 256, kernel_size=(1,), stride=(1,))\n",
       "    )\n",
       "    (1): ConditionalResidualBlock1D(\n",
       "      (blocks): ModuleList(\n",
       "        (0-1): 2 x Conv1dBlock(\n",
       "          (block): Sequential(\n",
       "            (0): Conv1d(256, 256, kernel_size=(5,), stride=(1,), padding=(2,))\n",
       "            (1): GroupNorm(8, 256, eps=1e-05, affine=True)\n",
       "            (2): Mish()\n",
       "          )\n",
       "        )\n",
       "      )\n",
       "      (cond_encoder): Sequential(\n",
       "        (0): Mish()\n",
       "        (1): Linear(in_features=1284, out_features=512, bias=True)\n",
       "        (2): Unflatten(dim=-1, unflattened_size=(-1, 1))\n",
       "      )\n",
       "      (residual_conv): Identity()\n",
       "    )\n",
       "    (2): Downsample1d(\n",
       "      (conv): Conv1d(256, 256, kernel_size=(3,), stride=(2,), padding=(1,))\n",
       "    )\n",
       "  )\n",
       "  (1): ModuleList(\n",
       "    (0): ConditionalResidualBlock1D(\n",
       "      (blocks): ModuleList(\n",
       "        (0): Conv1dBlock(\n",
       "          (block): Sequential(\n",
       "            (0): Conv1d(256, 512, kernel_size=(5,), stride=(1,), padding=(2,))\n",
       "            (1): GroupNorm(8, 512, eps=1e-05, affine=True)\n",
       "            (2): Mish()\n",
       "          )\n",
       "        )\n",
       "        (1): Conv1dBlock(\n",
       "          (block): Sequential(\n",
       "            (0): Conv1d(512, 512, kernel_size=(5,), stride=(1,), padding=(2,))\n",
       "            (1): GroupNorm(8, 512, eps=1e-05, affine=True)\n",
       "            (2): Mish()\n",
       "          )\n",
       "        )\n",
       "      )\n",
       "      (cond_encoder): Sequential(\n",
       "        (0): Mish()\n",
       "        (1): Linear(in_features=1284, out_features=1024, bias=True)\n",
       "        (2): Unflatten(dim=-1, unflattened_size=(-1, 1))\n",
       "      )\n",
       "      (residual_conv): Conv1d(256, 512, kernel_size=(1,), stride=(1,))\n",
       "    )\n",
       "    (1): ConditionalResidualBlock1D(\n",
       "      (blocks): ModuleList(\n",
       "        (0-1): 2 x Conv1dBlock(\n",
       "          (block): Sequential(\n",
       "            (0): Conv1d(512, 512, kernel_size=(5,), stride=(1,), padding=(2,))\n",
       "            (1): GroupNorm(8, 512, eps=1e-05, affine=True)\n",
       "            (2): Mish()\n",
       "          )\n",
       "        )\n",
       "      )\n",
       "      (cond_encoder): Sequential(\n",
       "        (0): Mish()\n",
       "        (1): Linear(in_features=1284, out_features=1024, bias=True)\n",
       "        (2): Unflatten(dim=-1, unflattened_size=(-1, 1))\n",
       "      )\n",
       "      (residual_conv): Identity()\n",
       "    )\n",
       "    (2): Downsample1d(\n",
       "      (conv): Conv1d(512, 512, kernel_size=(3,), stride=(2,), padding=(1,))\n",
       "    )\n",
       "  )\n",
       "  (2): ModuleList(\n",
       "    (0): ConditionalResidualBlock1D(\n",
       "      (blocks): ModuleList(\n",
       "        (0): Conv1dBlock(\n",
       "          (block): Sequential(\n",
       "            (0): Conv1d(512, 1024, kernel_size=(5,), stride=(1,), padding=(2,))\n",
       "            (1): GroupNorm(8, 1024, eps=1e-05, affine=True)\n",
       "            (2): Mish()\n",
       "          )\n",
       "        )\n",
       "        (1): Conv1dBlock(\n",
       "          (block): Sequential(\n",
       "            (0): Conv1d(1024, 1024, kernel_size=(5,), stride=(1,), padding=(2,))\n",
       "            (1): GroupNorm(8, 1024, eps=1e-05, affine=True)\n",
       "            (2): Mish()\n",
       "          )\n",
       "        )\n",
       "      )\n",
       "      (cond_encoder): Sequential(\n",
       "        (0): Mish()\n",
       "        (1): Linear(in_features=1284, out_features=2048, bias=True)\n",
       "        (2): Unflatten(dim=-1, unflattened_size=(-1, 1))\n",
       "      )\n",
       "      (residual_conv): Conv1d(512, 1024, kernel_size=(1,), stride=(1,))\n",
       "    )\n",
       "    (1): ConditionalResidualBlock1D(\n",
       "      (blocks): ModuleList(\n",
       "        (0-1): 2 x Conv1dBlock(\n",
       "          (block): Sequential(\n",
       "            (0): Conv1d(1024, 1024, kernel_size=(5,), stride=(1,), padding=(2,))\n",
       "            (1): GroupNorm(8, 1024, eps=1e-05, affine=True)\n",
       "            (2): Mish()\n",
       "          )\n",
       "        )\n",
       "      )\n",
       "      (cond_encoder): Sequential(\n",
       "        (0): Mish()\n",
       "        (1): Linear(in_features=1284, out_features=2048, bias=True)\n",
       "        (2): Unflatten(dim=-1, unflattened_size=(-1, 1))\n",
       "      )\n",
       "      (residual_conv): Identity()\n",
       "    )\n",
       "    (2): Identity()\n",
       "  )\n",
       ")"
      ]
     },
     "execution_count": 16,
     "metadata": {},
     "output_type": "execute_result"
    }
   ],
   "source": [
    "noise_pred_net.down_modules"
   ]
  },
  {
   "cell_type": "code",
   "execution_count": 17,
   "metadata": {},
   "outputs": [
    {
     "data": {
      "text/plain": [
       "Sequential(\n",
       "  (0): Conv1dBlock(\n",
       "    (block): Sequential(\n",
       "      (0): Conv1d(256, 256, kernel_size=(5,), stride=(1,), padding=(2,))\n",
       "      (1): GroupNorm(8, 256, eps=1e-05, affine=True)\n",
       "      (2): Mish()\n",
       "    )\n",
       "  )\n",
       "  (1): Conv1d(256, 2, kernel_size=(1,), stride=(1,))\n",
       ")"
      ]
     },
     "execution_count": 17,
     "metadata": {},
     "output_type": "execute_result"
    }
   ],
   "source": [
    "noise_pred_net.final_conv"
   ]
  },
  {
   "cell_type": "code",
   "execution_count": 18,
   "metadata": {},
   "outputs": [
    {
     "data": {
      "text/plain": [
       "ModuleList(\n",
       "  (0-1): 2 x ConditionalResidualBlock1D(\n",
       "    (blocks): ModuleList(\n",
       "      (0-1): 2 x Conv1dBlock(\n",
       "        (block): Sequential(\n",
       "          (0): Conv1d(1024, 1024, kernel_size=(5,), stride=(1,), padding=(2,))\n",
       "          (1): GroupNorm(8, 1024, eps=1e-05, affine=True)\n",
       "          (2): Mish()\n",
       "        )\n",
       "      )\n",
       "    )\n",
       "    (cond_encoder): Sequential(\n",
       "      (0): Mish()\n",
       "      (1): Linear(in_features=1284, out_features=2048, bias=True)\n",
       "      (2): Unflatten(dim=-1, unflattened_size=(-1, 1))\n",
       "    )\n",
       "    (residual_conv): Identity()\n",
       "  )\n",
       ")"
      ]
     },
     "execution_count": 18,
     "metadata": {},
     "output_type": "execute_result"
    }
   ],
   "source": [
    "noise_pred_net.mid_modules"
   ]
  },
  {
   "cell_type": "code",
   "execution_count": null,
   "metadata": {},
   "outputs": [],
   "source": []
  },
  {
   "cell_type": "code",
   "execution_count": 46,
   "metadata": {},
   "outputs": [
    {
     "data": {
      "text/plain": [
       "(torch.Size([64, 16, 2]), torch.Size([64]), torch.Size([64, 1028]))"
      ]
     },
     "execution_count": 46,
     "metadata": {},
     "output_type": "execute_result"
    }
   ],
   "source": [
    "noisy_actions.shape, timesteps.shape, obs_cond.shape"
   ]
  },
  {
   "cell_type": "code",
   "execution_count": 47,
   "metadata": {},
   "outputs": [
    {
     "data": {
      "text/plain": [
       "torch.Size([64, 16, 2])"
      ]
     },
     "execution_count": 47,
     "metadata": {},
     "output_type": "execute_result"
    }
   ],
   "source": [
    "eps_theta = noise_pred_net(noisy_actions, timesteps, global_cond=obs_cond)\n",
    "eps_theta.shape"
   ]
  },
  {
   "cell_type": "code",
   "execution_count": 51,
   "metadata": {},
   "outputs": [
    {
     "data": {
      "text/plain": [
       "torch.Size([64, 16, 2])"
      ]
     },
     "execution_count": 51,
     "metadata": {},
     "output_type": "execute_result"
    }
   ],
   "source": [
    "noisy_actions = torch.randn(64, 16, 2).to(device)\n",
    "timesteps = torch.randint(0, 100, (64,)).to(device)\n",
    "obs_cond = torch.randn(64, 1028).to(device)\n",
    "\n",
    "noisy_actions.shape, timesteps.shape, obs_cond.shape\n",
    "\n",
    "eps_theta = noise_pred_net(noisy_actions, timesteps, global_cond=obs_cond)\n",
    "eps_theta.shape"
   ]
  },
  {
   "cell_type": "code",
   "execution_count": null,
   "metadata": {},
   "outputs": [],
   "source": []
  },
  {
   "cell_type": "code",
   "execution_count": null,
   "metadata": {},
   "outputs": [],
   "source": []
  },
  {
   "cell_type": "markdown",
   "metadata": {},
   "source": [
    "### forward"
   ]
  },
  {
   "cell_type": "code",
   "execution_count": 19,
   "metadata": {},
   "outputs": [
    {
     "data": {
      "text/plain": [
       "(torch.Size([64, 16, 2]), torch.Size([64]), torch.Size([64, 1028]))"
      ]
     },
     "execution_count": 19,
     "metadata": {},
     "output_type": "execute_result"
    }
   ],
   "source": [
    "# eps_theta = noise_pred_net(noisy_actions, timesteps, global_cond=obs_cond)\n",
    "# eps_theta.shape\n",
    "\n",
    "sample=noisy_actions\n",
    "timestep=timesteps\n",
    "global_cond=obs_cond\n",
    "\n",
    "sample.shape, timestep.shape, global_cond.shape"
   ]
  },
  {
   "cell_type": "code",
   "execution_count": 20,
   "metadata": {},
   "outputs": [
    {
     "data": {
      "text/plain": [
       "torch.Size([64, 2, 16])"
      ]
     },
     "execution_count": 20,
     "metadata": {},
     "output_type": "execute_result"
    }
   ],
   "source": [
    "# (B,T,C)\n",
    "sample = sample.moveaxis(-1,-2)\n",
    "# (B,C,T)\n",
    "sample.shape"
   ]
  },
  {
   "cell_type": "code",
   "execution_count": 21,
   "metadata": {},
   "outputs": [
    {
     "data": {
      "text/plain": [
       "(True, False)"
      ]
     },
     "execution_count": 21,
     "metadata": {},
     "output_type": "execute_result"
    }
   ],
   "source": [
    "torch.is_tensor(timesteps), torch.is_tensor(timesteps) and len(timesteps.shape) == 0"
   ]
  },
  {
   "cell_type": "code",
   "execution_count": 22,
   "metadata": {},
   "outputs": [
    {
     "data": {
      "text/plain": [
       "torch.Size([64])"
      ]
     },
     "execution_count": 22,
     "metadata": {},
     "output_type": "execute_result"
    }
   ],
   "source": [
    "# 1. time\n",
    "timesteps = timestep \n",
    "# broadcast to batch dimension in a way that's compatible with ONNX/Core ML\n",
    "timesteps = timesteps.expand(sample.shape[0])\n",
    "timesteps.shape"
   ]
  },
  {
   "cell_type": "code",
   "execution_count": 37,
   "metadata": {},
   "outputs": [
    {
     "data": {
      "text/plain": [
       "torch.Size([64, 256])"
      ]
     },
     "execution_count": 37,
     "metadata": {},
     "output_type": "execute_result"
    }
   ],
   "source": [
    "global_feature = noise_pred_net.diffusion_step_encoder(timesteps)\n",
    "global_feature.shape"
   ]
  },
  {
   "cell_type": "code",
   "execution_count": 38,
   "metadata": {},
   "outputs": [
    {
     "data": {
      "text/plain": [
       "(torch.Size([64, 256]), torch.Size([64, 1028]))"
      ]
     },
     "execution_count": 38,
     "metadata": {},
     "output_type": "execute_result"
    }
   ],
   "source": [
    "global_feature.shape, global_cond.shape"
   ]
  },
  {
   "cell_type": "code",
   "execution_count": 39,
   "metadata": {},
   "outputs": [
    {
     "data": {
      "text/plain": [
       "torch.Size([64, 1284])"
      ]
     },
     "execution_count": 39,
     "metadata": {},
     "output_type": "execute_result"
    }
   ],
   "source": [
    "global_feature = torch.cat([global_feature, global_cond], axis=-1)\n",
    "global_feature.shape "
   ]
  },
  {
   "cell_type": "code",
   "execution_count": null,
   "metadata": {},
   "outputs": [],
   "source": [
    " "
   ]
  },
  {
   "cell_type": "code",
   "execution_count": 40,
   "metadata": {},
   "outputs": [
    {
     "data": {
      "text/plain": [
       "torch.Size([64, 2, 16])"
      ]
     },
     "execution_count": 40,
     "metadata": {},
     "output_type": "execute_result"
    }
   ],
   "source": [
    "x = sample\n",
    "x.shape"
   ]
  },
  {
   "cell_type": "code",
   "execution_count": 42,
   "metadata": {},
   "outputs": [
    {
     "data": {
      "text/plain": [
       "torch.Size([64, 1024, 4])"
      ]
     },
     "execution_count": 42,
     "metadata": {},
     "output_type": "execute_result"
    }
   ],
   "source": [
    "h = []\n",
    "for idx, (resnet, resnet2, downsample) in enumerate(noise_pred_net.down_modules):\n",
    "    x = resnet(x, global_feature)\n",
    "    x = resnet2(x, global_feature)\n",
    "    h.append(x)\n",
    "    x = downsample(x)\n",
    "\n",
    "x.shape"
   ]
  },
  {
   "cell_type": "code",
   "execution_count": 43,
   "metadata": {},
   "outputs": [
    {
     "data": {
      "text/plain": [
       "torch.Size([64, 1024, 4])"
      ]
     },
     "execution_count": 43,
     "metadata": {},
     "output_type": "execute_result"
    }
   ],
   "source": [
    "for mid_module in noise_pred_net.mid_modules:\n",
    "    x = mid_module(x, global_feature)\n",
    "\n",
    "x.shape"
   ]
  },
  {
   "cell_type": "code",
   "execution_count": 44,
   "metadata": {},
   "outputs": [
    {
     "data": {
      "text/plain": [
       "torch.Size([64, 256, 16])"
      ]
     },
     "execution_count": 44,
     "metadata": {},
     "output_type": "execute_result"
    }
   ],
   "source": [
    "for idx, (resnet, resnet2, upsample) in enumerate(noise_pred_net.up_modules):\n",
    "    x = torch.cat((x, h.pop()), dim=1)\n",
    "    x = resnet(x, global_feature)\n",
    "    x = resnet2(x, global_feature)\n",
    "    x = upsample(x)\n",
    "\n",
    "x.shape"
   ]
  },
  {
   "cell_type": "code",
   "execution_count": 45,
   "metadata": {},
   "outputs": [
    {
     "data": {
      "text/plain": [
       "torch.Size([64, 2, 16])"
      ]
     },
     "execution_count": 45,
     "metadata": {},
     "output_type": "execute_result"
    }
   ],
   "source": [
    "x = noise_pred_net.final_conv(x)\n",
    "x.shape"
   ]
  },
  {
   "cell_type": "code",
   "execution_count": 30,
   "metadata": {},
   "outputs": [
    {
     "data": {
      "text/plain": [
       "torch.Size([64, 16, 2])"
      ]
     },
     "execution_count": 30,
     "metadata": {},
     "output_type": "execute_result"
    }
   ],
   "source": [
    "# (B,C,T)\n",
    "x = x.moveaxis(-1,-2)\n",
    "# (B,T,C)\n",
    "x.shape"
   ]
  },
  {
   "cell_type": "code",
   "execution_count": 32,
   "metadata": {},
   "outputs": [],
   "source": [
    "self= noise_pred_net"
   ]
  },
  {
   "cell_type": "code",
   "execution_count": 33,
   "metadata": {},
   "outputs": [
    {
     "data": {
      "text/plain": [
       "Sequential(\n",
       "  (0): SinusoidalPosEmb()\n",
       "  (1): Linear(in_features=256, out_features=1024, bias=True)\n",
       "  (2): Mish()\n",
       "  (3): Linear(in_features=1024, out_features=256, bias=True)\n",
       ")"
      ]
     },
     "execution_count": 33,
     "metadata": {},
     "output_type": "execute_result"
    }
   ],
   "source": [
    "self.diffusion_step_encoder"
   ]
  },
  {
   "cell_type": "code",
   "execution_count": null,
   "metadata": {},
   "outputs": [],
   "source": []
  },
  {
   "cell_type": "code",
   "execution_count": null,
   "metadata": {},
   "outputs": [],
   "source": [
    "\n",
    "def forward(self,\n",
    "        sample: torch.Tensor,\n",
    "        timestep: Union[torch.Tensor, float, int],\n",
    "        global_cond=None):\n",
    "    \"\"\"\n",
    "    x: (B,T,input_dim)\n",
    "    timestep: (B,) or int, diffusion step\n",
    "    global_cond: (B,global_cond_dim)\n",
    "    output: (B,T,input_dim)\n",
    "    \"\"\"\n",
    "    # (B,T,C)\n",
    "    sample = sample.moveaxis(-1,-2)\n",
    "    # (B,C,T)\n",
    "\n",
    "    # 1. time\n",
    "    timesteps = timestep\n",
    "    if not torch.is_tensor(timesteps):\n",
    "        # TODO: this requires sync between CPU and GPU. So try to pass timesteps as tensors if you can\n",
    "        timesteps = torch.tensor([timesteps], dtype=torch.long, device=sample.device)\n",
    "    elif torch.is_tensor(timesteps) and len(timesteps.shape) == 0:\n",
    "        timesteps = timesteps[None].to(sample.device)\n",
    "    # broadcast to batch dimension in a way that's compatible with ONNX/Core ML\n",
    "    timesteps = timesteps.expand(sample.shape[0])\n",
    "\n",
    "    global_feature = self.diffusion_step_encoder(timesteps)\n",
    "\n",
    "    if global_cond is not None:\n",
    "        global_feature = torch.cat([\n",
    "            global_feature, global_cond\n",
    "        ], axis=-1)\n",
    "\n",
    "    x = sample\n",
    "    h = []\n",
    "    for idx, (resnet, resnet2, downsample) in enumerate(self.down_modules):\n",
    "        x = resnet(x, global_feature)\n",
    "        x = resnet2(x, global_feature)\n",
    "        h.append(x)\n",
    "        x = downsample(x)\n",
    "\n",
    "    for mid_module in self.mid_modules:\n",
    "        x = mid_module(x, global_feature)\n",
    "\n",
    "    for idx, (resnet, resnet2, upsample) in enumerate(self.up_modules):\n",
    "        x = torch.cat((x, h.pop()), dim=1)\n",
    "        x = resnet(x, global_feature)\n",
    "        x = resnet2(x, global_feature)\n",
    "        x = upsample(x)\n",
    "\n",
    "    x = self.final_conv(x)\n",
    "\n",
    "    # (B,C,T)\n",
    "    x = x.moveaxis(-1,-2)\n",
    "    # (B,T,C)\n",
    "    return x\n"
   ]
  },
  {
   "cell_type": "code",
   "execution_count": null,
   "metadata": {},
   "outputs": [],
   "source": []
  },
  {
   "cell_type": "code",
   "execution_count": null,
   "metadata": {},
   "outputs": [],
   "source": []
  },
  {
   "cell_type": "code",
   "execution_count": null,
   "metadata": {},
   "outputs": [],
   "source": []
  },
  {
   "cell_type": "code",
   "execution_count": null,
   "metadata": {},
   "outputs": [],
   "source": []
  },
  {
   "cell_type": "code",
   "execution_count": null,
   "metadata": {},
   "outputs": [],
   "source": []
  }
 ],
 "metadata": {
  "kernelspec": {
   "display_name": "Python 3",
   "language": "python",
   "name": "python3"
  },
  "language_info": {
   "codemirror_mode": {
    "name": "ipython",
    "version": 3
   },
   "file_extension": ".py",
   "mimetype": "text/x-python",
   "name": "python",
   "nbconvert_exporter": "python",
   "pygments_lexer": "ipython3",
   "version": "3.9.18"
  }
 },
 "nbformat": 4,
 "nbformat_minor": 2
}
