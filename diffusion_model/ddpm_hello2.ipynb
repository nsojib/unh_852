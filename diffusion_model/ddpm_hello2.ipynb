{
 "cells": [
  {
   "cell_type": "code",
   "execution_count": 1,
   "id": "b8195d08",
   "metadata": {},
   "outputs": [],
   "source": [
    "import torch\n",
    "import torch.nn as nn\n",
    "import torch.nn.functional as F\n",
    "import matplotlib.pyplot as plt\n",
    "\n",
    "import numpy as np\n",
    "\n",
    "from tqdm import tqdm\n",
    "from torchvision.utils import save_image, make_grid\n",
    "from tqdm import tqdm\n",
    "from torch.optim import Adam\n",
    "\n",
    "import math"
   ]
  },
  {
   "cell_type": "code",
   "execution_count": 2,
   "id": "19fcb975",
   "metadata": {},
   "outputs": [],
   "source": [
    "# Model Hyperparameters\n",
    "\n",
    "dataset_path = 'datasets'\n",
    "\n",
    "cuda = True\n",
    "DEVICE = torch.device(\"cuda:0\" if cuda else \"cpu\")\n",
    "\n",
    "dataset = 'MNIST'\n",
    "img_size = (32, 32, 3)   if dataset == \"CIFAR10\" else (28, 28, 1) # (width, height, channels)\n",
    "\n",
    "timestep_embedding_dim = 256\n",
    "n_layers = 8\n",
    "hidden_dim = 256\n",
    "n_timesteps = 1000\n",
    "beta_minmax=[1e-4, 2e-2]\n",
    "\n",
    "train_batch_size = 128\n",
    "inference_batch_size = 64\n",
    "lr = 5e-5\n",
    "epochs = 200\n",
    "\n",
    "seed = 1234\n",
    "\n",
    "hidden_dims = [hidden_dim for _ in range(n_layers)]\n",
    "torch.manual_seed(seed)\n",
    "np.random.seed(seed)"
   ]
  },
  {
   "cell_type": "markdown",
   "id": "eb9a213e",
   "metadata": {},
   "source": [
    "## Step 1. Load (or download) Dataset"
   ]
  },
  {
   "cell_type": "code",
   "execution_count": 3,
   "id": "f09f3f4d",
   "metadata": {
    "metadata": {}
   },
   "outputs": [],
   "source": [
    "from torchvision.datasets import MNIST, CIFAR10\n",
    "import torchvision.transforms as transforms\n",
    "from torch.utils.data import DataLoader\n",
    "\n",
    "\n",
    "transform = transforms.Compose([\n",
    "        transforms.ToTensor(),\n",
    "])\n",
    "\n",
    "kwargs = {'num_workers': 1, 'pin_memory': True} \n",
    "\n",
    "train_dataset = MNIST(dataset_path, transform=transform, train=True, download=True)\n",
    "test_dataset  = MNIST(dataset_path, transform=transform, train=False, download=True)\n",
    "\n",
    "train_loader = DataLoader(dataset=train_dataset, batch_size=train_batch_size, shuffle=True, **kwargs)\n",
    "test_loader  = DataLoader(dataset=test_dataset,  batch_size=inference_batch_size, shuffle=False,  **kwargs)"
   ]
  },
  {
   "cell_type": "markdown",
   "id": "68156109",
   "metadata": {},
   "source": [
    "## Step 2. Define our model: Denoising Diffusion Probabilistic Models (DDPMs)"
   ]
  },
  {
   "cell_type": "markdown",
   "id": "9dbff9cc",
   "metadata": {},
   "source": [
    "Sinusoidal embedding for diffusion timestep"
   ]
  },
  {
   "cell_type": "code",
   "execution_count": 4,
   "id": "5a75f481",
   "metadata": {},
   "outputs": [],
   "source": [
    "class SinusoidalPosEmb(nn.Module):\n",
    "    def __init__(self, dim):\n",
    "        super().__init__()\n",
    "        self.dim = dim\n",
    "\n",
    "    def forward(self, x):\n",
    "        device = x.device\n",
    "        half_dim = self.dim // 2\n",
    "        emb = math.log(10000) / (half_dim - 1)\n",
    "        emb = torch.exp(torch.arange(half_dim, device=device) * -emb)\n",
    "        emb = x[:, None] * emb[None, :]\n",
    "        emb = torch.cat((emb.sin(), emb.cos()), dim=-1)\n",
    "        return emb"
   ]
  },
  {
   "cell_type": "markdown",
   "id": "42782a95",
   "metadata": {},
   "source": [
    "In this tutorial, we use a simple stacked-convolution model with various dilations instead of UNet-like architecture."
   ]
  },
  {
   "cell_type": "code",
   "execution_count": 5,
   "id": "5b5b32a9",
   "metadata": {},
   "outputs": [],
   "source": [
    "class ConvBlock(nn.Conv2d):\n",
    "    \"\"\"\n",
    "        Conv2D Block\n",
    "            Args:\n",
    "                x: (N, C_in, H, W)\n",
    "            Returns:\n",
    "                y: (N, C_out, H, W)\n",
    "    \"\"\"\n",
    "\n",
    "    def __init__(self, in_channels, out_channels, kernel_size, activation_fn=None, drop_rate=0.,\n",
    "                    stride=1, padding='same', dilation=1, groups=1, bias=True, gn=False, gn_groups=8):\n",
    "        \n",
    "        if padding == 'same':\n",
    "            padding = kernel_size // 2 * dilation\n",
    "\n",
    "        super(ConvBlock, self).__init__(in_channels, out_channels, kernel_size,\n",
    "                                            stride=stride, padding=padding, dilation=dilation,\n",
    "                                            groups=groups, bias=bias)\n",
    "\n",
    "        self.activation_fn = nn.SiLU() if activation_fn else None\n",
    "        self.group_norm = nn.GroupNorm(gn_groups, out_channels) if gn else None\n",
    "        \n",
    "    def forward(self, x, time_embedding=None, residual=False):\n",
    "        \n",
    "        if residual:\n",
    "            # in the paper, diffusion timestep embedding was only applied to residual blocks of U-Net\n",
    "            x = x + time_embedding\n",
    "            y = x\n",
    "            x = super(ConvBlock, self).forward(x)\n",
    "            y = y + x\n",
    "        else:\n",
    "            y = super(ConvBlock, self).forward(x)\n",
    "        y = self.group_norm(y) if self.group_norm is not None else y\n",
    "        y = self.activation_fn(y) if self.activation_fn is not None else y\n",
    "        \n",
    "        return y"
   ]
  },
  {
   "cell_type": "code",
   "execution_count": 6,
   "id": "5bc08ca3",
   "metadata": {
    "scrolled": false
   },
   "outputs": [],
   "source": [
    "class Denoiser(nn.Module):\n",
    "    \n",
    "    def __init__(self, image_resolution, hidden_dims=[256, 256], diffusion_time_embedding_dim = 256, n_times=1000):\n",
    "        super(Denoiser, self).__init__()\n",
    "        \n",
    "        _, _, img_C = image_resolution\n",
    "        \n",
    "        self.time_embedding = SinusoidalPosEmb(diffusion_time_embedding_dim)\n",
    "        \n",
    "        self.in_project = ConvBlock(img_C, hidden_dims[0], kernel_size=7)\n",
    "        \n",
    "        self.time_project = nn.Sequential(\n",
    "                                 ConvBlock(diffusion_time_embedding_dim, hidden_dims[0], kernel_size=1, activation_fn=True),\n",
    "                                 ConvBlock(hidden_dims[0], hidden_dims[0], kernel_size=1))\n",
    "        \n",
    "        self.convs = nn.ModuleList([ConvBlock(in_channels=hidden_dims[0], out_channels=hidden_dims[0], kernel_size=3)])\n",
    "        \n",
    "        for idx in range(1, len(hidden_dims)):\n",
    "            self.convs.append(ConvBlock(hidden_dims[idx-1], hidden_dims[idx], kernel_size=3, dilation=3**((idx-1)//2),\n",
    "                                                    activation_fn=True, gn=True, gn_groups=8))                                \n",
    "                               \n",
    "        self.out_project = ConvBlock(hidden_dims[-1], out_channels=img_C, kernel_size=3)\n",
    "        \n",
    "        \n",
    "    def forward(self, perturbed_x, diffusion_timestep):\n",
    "        y = perturbed_x\n",
    "        \n",
    "        diffusion_embedding = self.time_embedding(diffusion_timestep)\n",
    "        diffusion_embedding = self.time_project(diffusion_embedding.unsqueeze(-1).unsqueeze(-2))\n",
    "        \n",
    "        y = self.in_project(y)\n",
    "        \n",
    "        for i in range(len(self.convs)):\n",
    "            y = self.convs[i](y, diffusion_embedding, residual = True)\n",
    "            \n",
    "        y = self.out_project(y)\n",
    "            \n",
    "        return y\n",
    "    \n"
   ]
  },
  {
   "cell_type": "code",
   "execution_count": 8,
   "id": "343607f4",
   "metadata": {},
   "outputs": [],
   "source": [
    "class MyScheduler:\n",
    "    def __init__(self, T=100, beta_start=1e-4, beta_end=0.02, device='cuda'):\n",
    "        self.betas=torch.linspace(beta_start, beta_end, T).to(device)\n",
    "        self.T = T\n",
    "        self.alphas=1.0 - self.betas\n",
    "        self.device=device\n",
    "\n",
    "        self.sqrt_one_minus_betas = torch.sqrt(1.0 - self.betas)\n",
    "        \n",
    "        self.alpha_bars = torch.cumprod(self.alphas, dim=0) \n",
    "        \n",
    "        self.sqrt_alpha_bars = torch.sqrt(self.alpha_bars)\n",
    "        self.sqrt_one_minus_alpha_bars = torch.sqrt(1.0 - self.alpha_bars)\n",
    "\n",
    "        self.sqrt_betas = torch.sqrt(self.betas)\n",
    "        self.sqrt_alphas = torch.sqrt(self.alphas)\n",
    "\n",
    "    def extract(self, a, t, x_shape): \n",
    "        \"\"\"\n",
    "        collect the values at time t from a and reshape it to x_shape\n",
    "        \n",
    "        a: precomputed one dimensional values\n",
    "        t: time steps (scalar or tensor)\n",
    "        x_shape: shape of the tensor to be returned \n",
    "        \"\"\"\n",
    "        \n",
    "        b=t.shape[0]\n",
    "        out=a.gather(-1, t)\n",
    "        rt=out.reshape(b, *((1,) * (len(x_shape) - 1)))  #batch, unpack([1]*rest of the dimension)\n",
    "        return rt  \n",
    "\n",
    "    def get_xt(self, x0, t):\n",
    "        \"\"\"\n",
    "        compute noisy image xt from x0 at time t \n",
    "        \"\"\" \n",
    "        eps=torch.randn_like(x0)\n",
    "        # xt=x0 * self.sqrt_alpha_bars[t] + self.sqrt_one_minus_alpha_bars[t] * eps\n",
    "        xt = x0 * self.extract(self.sqrt_alpha_bars, t, x0.shape) + eps * self.extract(self.sqrt_one_minus_alpha_bars, t, x0.shape)\n",
    "        return xt, eps"
   ]
  },
  {
   "cell_type": "code",
   "execution_count": 9,
   "id": "cb856c6c",
   "metadata": {},
   "outputs": [],
   "source": [
    "class MyDDPM:\n",
    "    def __init__(self, scheduler, noise_predictor_net, device='cuda'): \n",
    "        self.scheduler=scheduler\n",
    "        self.noise_predictor_net=noise_predictor_net\n",
    "        self.device=device\n",
    "    \n",
    "    def forward(self, x0):\n",
    "        \"\"\" \n",
    "        noise x0 at random time t\n",
    "        return noise, predicted noise\n",
    "        \"\"\"\n",
    "        B= x0.shape[0]\n",
    "        t=torch.randint(low=0, high=self.scheduler.T, size=(B,)).long().to(self.device)\n",
    "        xt, eps=self.scheduler.get_xt(x0, t)\n",
    "        eps_pred=self.noise_predictor_net(xt, t)\n",
    "        return xt, eps, eps_pred\n",
    "    \n",
    "    \n",
    "    def x_t_minus_1_from_x_t(self, t, x_t, eps_theta): \n",
    "        \"\"\" \n",
    "        Algorithm 2 in the DDPM paper\n",
    "        \"\"\"\n",
    "        sqrt_alpha=self.scheduler.extract(self.scheduler.sqrt_alphas, t, x_t.shape)\n",
    "        sqrt_one_minus_alpha_bar=self.scheduler.extract(self.scheduler.sqrt_one_minus_alpha_bars, t, x_t.shape)\n",
    "        beta=self.scheduler.extract(self.scheduler.betas, t, x_t.shape)\n",
    "        x_t_minus_1 = (1 / sqrt_alpha) * (x_t - ( beta / sqrt_one_minus_alpha_bar ) * eps_theta)\n",
    "        \n",
    "        # x_t_minus_1 = (1 / self.scheduler.sqrt_alphas[t]) * (x_t - ( self.scheduler.betas[t] / self.scheduler.sqrt_one_minus_alpha_bars[t] ) * eps_theta)\n",
    "        return x_t_minus_1\n",
    "    \n",
    "    def sample_ddpm(self, nsamples, sample_shape):\n",
    "        \"\"\"Sampler following the Denoising Diffusion Probabilistic Models method by Ho et al (Algorithm 2)\"\"\"\n",
    "        with torch.no_grad():\n",
    "            x = torch.randn(size=(nsamples, *sample_shape)).to(self.device)   #start from random noise\n",
    "            xts = [x]\n",
    "            for it in range(self.scheduler.T-1, 0, -1):\n",
    "                t=torch.tensor([it]).repeat_interleave(nsamples, dim=0).long().to(self.device)\n",
    "                eps_theta = self.noise_predictor_net(x, t) \n",
    "                # See DDPM paper between equations 11 and 12\n",
    "                x = self.x_t_minus_1_from_x_t(t, x, eps_theta) \n",
    "                if it > 1: # No noise for t=0\n",
    "                    z = torch.randn(size=(nsamples, *sample_shape)).to(self.device)  \n",
    "                    sqrt_beta=self.scheduler.extract(self.scheduler.sqrt_betas, t, x.shape)       #use fixed varience.\n",
    "                    x += sqrt_beta* z\n",
    "                xts += [x]\n",
    "            return x, xts"
   ]
  },
  {
   "cell_type": "code",
   "execution_count": 10,
   "id": "93780e54",
   "metadata": {},
   "outputs": [],
   "source": [
    "# x_t_minus_1 = 1 / sqrt_alpha * (x_t - (1-alpha)/sqrt_one_minus_alpha_bar*epsilon_pred) + sqrt_beta*z"
   ]
  },
  {
   "cell_type": "code",
   "execution_count": 11,
   "id": "84244c52",
   "metadata": {},
   "outputs": [],
   "source": [
    "model = Denoiser(image_resolution=img_size,\n",
    "                 hidden_dims=hidden_dims, \n",
    "                 diffusion_time_embedding_dim=timestep_embedding_dim, \n",
    "                 n_times=n_timesteps).to(DEVICE)"
   ]
  },
  {
   "cell_type": "code",
   "execution_count": 12,
   "id": "c7138a91",
   "metadata": {},
   "outputs": [],
   "source": [
    "ms=MyScheduler(T=1000, beta_start=1e-4, beta_end=2e-2)\n",
    "ddpm=MyDDPM(ms, model)"
   ]
  },
  {
   "cell_type": "code",
   "execution_count": null,
   "id": "4aacac83",
   "metadata": {},
   "outputs": [],
   "source": []
  },
  {
   "cell_type": "code",
   "execution_count": 13,
   "id": "6e269f58",
   "metadata": {},
   "outputs": [],
   "source": [
    "# def count_parameters(model):\n",
    "#     return sum(p.numel() for p in model.parameters() if p.requires_grad)\n",
    "\n",
    "# print(\"Number of model parameters: \", count_parameters(diffusion))"
   ]
  },
  {
   "cell_type": "code",
   "execution_count": null,
   "id": "e4bd5236",
   "metadata": {},
   "outputs": [],
   "source": []
  },
  {
   "cell_type": "code",
   "execution_count": 14,
   "id": "66ef5f7d",
   "metadata": {},
   "outputs": [],
   "source": [
    "batch=next(iter(test_loader))\n",
    "X,y=batch\n",
    "\n",
    "# x0=x0.unsqueeze(0).unsqueeze(0)\n",
    "# x0.shape\n",
    "# x0=x0.to(DEVICE)\n",
    "i=10\n",
    "x0=X[i].to(DEVICE)"
   ]
  },
  {
   "cell_type": "code",
   "execution_count": null,
   "id": "0731364f",
   "metadata": {},
   "outputs": [],
   "source": []
  },
  {
   "cell_type": "code",
   "execution_count": 18,
   "id": "1188ff72",
   "metadata": {},
   "outputs": [
    {
     "data": {
      "text/plain": [
       "(28, 28)"
      ]
     },
     "execution_count": 18,
     "metadata": {},
     "output_type": "execute_result"
    }
   ],
   "source": [
    "xs=[]\n",
    "n_times=1000\n",
    "ts=[1, 10, 20,  n_times//8,   n_times//4, n_times//2, n_times-1]\n",
    "for ti in ts:\n",
    "    t = torch.randint(low=0, high= n_times, size=(1,)).long().to(ms.device)\n",
    "    t[0]=ti    \n",
    "\n",
    "    xt,eps=ddpm.scheduler.get_xt(x0, t)\n",
    "    xt=xt.squeeze().cpu().numpy()\n",
    "    xs.append(xt)\n",
    "xt.shape "
   ]
  },
  {
   "cell_type": "code",
   "execution_count": 19,
   "id": "197cbd15",
   "metadata": {},
   "outputs": [
    {
     "data": {
      "image/png": "[encoded data removed]",
      "text/plain": [
       "<Figure size 1000x300 with 7 Axes>"
      ]
     },
     "metadata": {},
     "output_type": "display_data"
    }
   ],
   "source": [
    "plt.figure(figsize=(10,3))\n",
    "for i,xt in enumerate(xs):\n",
    "    plt.subplot(1,len(xs),i+1)\n",
    "    plt.imshow(xt)\n",
    "    plt.title(f\"t={ts[i]}\")"
   ]
  },
  {
   "cell_type": "code",
   "execution_count": null,
   "id": "b012e710",
   "metadata": {},
   "outputs": [],
   "source": []
  },
  {
   "cell_type": "code",
   "execution_count": 21,
   "id": "3127604b",
   "metadata": {},
   "outputs": [],
   "source": [
    "optimizer = Adam(model.parameters(), lr=lr)\n",
    "loss_fn = nn.MSELoss()"
   ]
  },
  {
   "cell_type": "code",
   "execution_count": 22,
   "id": "236e1803",
   "metadata": {},
   "outputs": [
    {
     "data": {
      "text/plain": [
       "200"
      ]
     },
     "execution_count": 22,
     "metadata": {},
     "output_type": "execute_result"
    }
   ],
   "source": [
    "epochs"
   ]
  },
  {
   "cell_type": "code",
   "execution_count": 23,
   "id": "fd3b8f56",
   "metadata": {
    "scrolled": false
   },
   "outputs": [
    {
     "name": "stdout",
     "output_type": "stream",
     "text": [
      "Start training DDPMs...\n"
     ]
    },
    {
     "name": "stderr",
     "output_type": "stream",
     "text": [
      "100%|██████████| 469/469 [00:31<00:00, 14.74it/s]"
     ]
    },
    {
     "name": "stdout",
     "output_type": "stream",
     "text": [
      "\tEpoch 1 complete! \tDenoising Loss:  0.06925820287428477\n"
     ]
    },
    {
     "name": "stderr",
     "output_type": "stream",
     "text": [
      "\n",
      "100%|██████████| 469/469 [00:31<00:00, 14.81it/s]\n"
     ]
    },
    {
     "name": "stdout",
     "output_type": "stream",
     "text": [
      "\tEpoch 2 complete! \tDenoising Loss:  0.02635586081454769\n"
     ]
    },
    {
     "name": "stderr",
     "output_type": "stream",
     "text": [
      "100%|██████████| 469/469 [00:31<00:00, 14.79it/s]"
     ]
    },
    {
     "name": "stdout",
     "output_type": "stream",
     "text": [
      "\tEpoch 3 complete! \tDenoising Loss:  0.023392327790522676\n"
     ]
    },
    {
     "name": "stderr",
     "output_type": "stream",
     "text": [
      "\n",
      "100%|██████████| 469/469 [00:31<00:00, 14.77it/s]"
     ]
    },
    {
     "name": "stdout",
     "output_type": "stream",
     "text": [
      "\tEpoch 4 complete! \tDenoising Loss:  0.022197607924572677\n"
     ]
    },
    {
     "name": "stderr",
     "output_type": "stream",
     "text": [
      "\n",
      "100%|██████████| 469/469 [00:31<00:00, 14.76it/s]"
     ]
    },
    {
     "name": "stdout",
     "output_type": "stream",
     "text": [
      "\tEpoch 5 complete! \tDenoising Loss:  0.021091701192224126\n"
     ]
    },
    {
     "name": "stderr",
     "output_type": "stream",
     "text": [
      "\n",
      "100%|██████████| 469/469 [00:31<00:00, 14.77it/s]"
     ]
    },
    {
     "name": "stdout",
     "output_type": "stream",
     "text": [
      "\tEpoch 6 complete! \tDenoising Loss:  0.020243279152334884\n"
     ]
    },
    {
     "name": "stderr",
     "output_type": "stream",
     "text": [
      "\n",
      "100%|██████████| 469/469 [00:31<00:00, 14.76it/s]"
     ]
    },
    {
     "name": "stdout",
     "output_type": "stream",
     "text": [
      "\tEpoch 7 complete! \tDenoising Loss:  0.019867094444572672\n"
     ]
    },
    {
     "name": "stderr",
     "output_type": "stream",
     "text": [
      "\n",
      "100%|██████████| 469/469 [00:31<00:00, 14.76it/s]"
     ]
    },
    {
     "name": "stdout",
     "output_type": "stream",
     "text": [
      "\tEpoch 8 complete! \tDenoising Loss:  0.019300365613566503\n"
     ]
    },
    {
     "name": "stderr",
     "output_type": "stream",
     "text": [
      "\n",
      "100%|██████████| 469/469 [00:31<00:00, 14.77it/s]"
     ]
    },
    {
     "name": "stdout",
     "output_type": "stream",
     "text": [
      "\tEpoch 9 complete! \tDenoising Loss:  0.019091878834570575\n"
     ]
    },
    {
     "name": "stderr",
     "output_type": "stream",
     "text": [
      "\n",
      "100%|██████████| 469/469 [00:31<00:00, 14.77it/s]"
     ]
    },
    {
     "name": "stdout",
     "output_type": "stream",
     "text": [
      "\tEpoch 10 complete! \tDenoising Loss:  0.01895379889000239\n"
     ]
    },
    {
     "name": "stderr",
     "output_type": "stream",
     "text": [
      "\n",
      "100%|██████████| 469/469 [00:31<00:00, 14.78it/s]"
     ]
    },
    {
     "name": "stdout",
     "output_type": "stream",
     "text": [
      "\tEpoch 11 complete! \tDenoising Loss:  0.01872830057882855\n"
     ]
    },
    {
     "name": "stderr",
     "output_type": "stream",
     "text": [
      "\n",
      "100%|██████████| 469/469 [00:31<00:00, 14.77it/s]"
     ]
    },
    {
     "name": "stdout",
     "output_type": "stream",
     "text": [
      "\tEpoch 12 complete! \tDenoising Loss:  0.01827706694483566\n"
     ]
    },
    {
     "name": "stderr",
     "output_type": "stream",
     "text": [
      "\n",
      "100%|██████████| 469/469 [00:31<00:00, 14.77it/s]"
     ]
    },
    {
     "name": "stdout",
     "output_type": "stream",
     "text": [
      "\tEpoch 13 complete! \tDenoising Loss:  0.018200442439709336\n"
     ]
    },
    {
     "name": "stderr",
     "output_type": "stream",
     "text": [
      "\n",
      "100%|██████████| 469/469 [00:31<00:00, 14.77it/s]"
     ]
    },
    {
     "name": "stdout",
     "output_type": "stream",
     "text": [
      "\tEpoch 14 complete! \tDenoising Loss:  0.017936958004043907\n"
     ]
    },
    {
     "name": "stderr",
     "output_type": "stream",
     "text": [
      "\n",
      "100%|██████████| 469/469 [00:31<00:00, 14.77it/s]"
     ]
    },
    {
     "name": "stdout",
     "output_type": "stream",
     "text": [
      "\tEpoch 15 complete! \tDenoising Loss:  0.017949753974238012\n"
     ]
    },
    {
     "name": "stderr",
     "output_type": "stream",
     "text": [
      "\n",
      "100%|██████████| 469/469 [00:31<00:00, 14.77it/s]"
     ]
    },
    {
     "name": "stdout",
     "output_type": "stream",
     "text": [
      "\tEpoch 16 complete! \tDenoising Loss:  0.01772504464054528\n"
     ]
    },
    {
     "name": "stderr",
     "output_type": "stream",
     "text": [
      "\n",
      "100%|██████████| 469/469 [00:31<00:00, 14.77it/s]"
     ]
    },
    {
     "name": "stdout",
     "output_type": "stream",
     "text": [
      "\tEpoch 17 complete! \tDenoising Loss:  0.017556094628177647\n"
     ]
    },
    {
     "name": "stderr",
     "output_type": "stream",
     "text": [
      "\n",
      "100%|██████████| 469/469 [00:31<00:00, 14.77it/s]"
     ]
    },
    {
     "name": "stdout",
     "output_type": "stream",
     "text": [
      "\tEpoch 18 complete! \tDenoising Loss:  0.017414078381087664\n"
     ]
    },
    {
     "name": "stderr",
     "output_type": "stream",
     "text": [
      "\n",
      "100%|██████████| 469/469 [00:31<00:00, 14.77it/s]"
     ]
    },
    {
     "name": "stdout",
     "output_type": "stream",
     "text": [
      "\tEpoch 19 complete! \tDenoising Loss:  0.01739774457513331\n"
     ]
    },
    {
     "name": "stderr",
     "output_type": "stream",
     "text": [
      "\n",
      "100%|██████████| 469/469 [00:31<00:00, 14.77it/s]"
     ]
    },
    {
     "name": "stdout",
     "output_type": "stream",
     "text": [
      "\tEpoch 20 complete! \tDenoising Loss:  0.017148165649169277\n"
     ]
    },
    {
     "name": "stderr",
     "output_type": "stream",
     "text": [
      "\n",
      "100%|██████████| 469/469 [00:31<00:00, 14.78it/s]"
     ]
    },
    {
     "name": "stdout",
     "output_type": "stream",
     "text": [
      "\tEpoch 21 complete! \tDenoising Loss:  0.017042453152040005\n"
     ]
    },
    {
     "name": "stderr",
     "output_type": "stream",
     "text": [
      "\n",
      "100%|██████████| 469/469 [00:31<00:00, 14.78it/s]"
     ]
    },
    {
     "name": "stdout",
     "output_type": "stream",
     "text": [
      "\tEpoch 22 complete! \tDenoising Loss:  0.01714667304355301\n"
     ]
    },
    {
     "name": "stderr",
     "output_type": "stream",
     "text": [
      "\n",
      "100%|██████████| 469/469 [00:31<00:00, 14.78it/s]"
     ]
    },
    {
     "name": "stdout",
     "output_type": "stream",
     "text": [
      "\tEpoch 23 complete! \tDenoising Loss:  0.016910142971712172\n"
     ]
    },
    {
     "name": "stderr",
     "output_type": "stream",
     "text": [
      "\n",
      "100%|██████████| 469/469 [00:31<00:00, 14.76it/s]"
     ]
    },
    {
     "name": "stdout",
     "output_type": "stream",
     "text": [
      "\tEpoch 24 complete! \tDenoising Loss:  0.016763102464202758\n"
     ]
    },
    {
     "name": "stderr",
     "output_type": "stream",
     "text": [
      "\n",
      "100%|██████████| 469/469 [00:31<00:00, 14.77it/s]"
     ]
    },
    {
     "name": "stdout",
     "output_type": "stream",
     "text": [
      "\tEpoch 25 complete! \tDenoising Loss:  0.01662831630311015\n"
     ]
    },
    {
     "name": "stderr",
     "output_type": "stream",
     "text": [
      "\n",
      "100%|██████████| 469/469 [00:31<00:00, 14.77it/s]"
     ]
    },
    {
     "name": "stdout",
     "output_type": "stream",
     "text": [
      "\tEpoch 26 complete! \tDenoising Loss:  0.01680020268401529\n"
     ]
    },
    {
     "name": "stderr",
     "output_type": "stream",
     "text": [
      "\n",
      "100%|██████████| 469/469 [00:31<00:00, 14.77it/s]"
     ]
    },
    {
     "name": "stdout",
     "output_type": "stream",
     "text": [
      "\tEpoch 27 complete! \tDenoising Loss:  0.01675198551737027\n"
     ]
    },
    {
     "name": "stderr",
     "output_type": "stream",
     "text": [
      "\n",
      "100%|██████████| 469/469 [00:31<00:00, 14.76it/s]"
     ]
    },
    {
     "name": "stdout",
     "output_type": "stream",
     "text": [
      "\tEpoch 28 complete! \tDenoising Loss:  0.016525550801147763\n"
     ]
    },
    {
     "name": "stderr",
     "output_type": "stream",
     "text": [
      "\n",
      "100%|██████████| 469/469 [00:31<00:00, 14.77it/s]"
     ]
    },
    {
     "name": "stdout",
     "output_type": "stream",
     "text": [
      "\tEpoch 29 complete! \tDenoising Loss:  0.01651252510670859\n"
     ]
    },
    {
     "name": "stderr",
     "output_type": "stream",
     "text": [
      "\n",
      "100%|██████████| 469/469 [00:31<00:00, 14.77it/s]"
     ]
    },
    {
     "name": "stdout",
     "output_type": "stream",
     "text": [
      "\tEpoch 30 complete! \tDenoising Loss:  0.016382853247814327\n"
     ]
    },
    {
     "name": "stderr",
     "output_type": "stream",
     "text": [
      "\n",
      "100%|██████████| 469/469 [00:31<00:00, 14.77it/s]"
     ]
    },
    {
     "name": "stdout",
     "output_type": "stream",
     "text": [
      "\tEpoch 31 complete! \tDenoising Loss:  0.01639051740177167\n"
     ]
    },
    {
     "name": "stderr",
     "output_type": "stream",
     "text": [
      "\n",
      "100%|██████████| 469/469 [00:31<00:00, 14.77it/s]"
     ]
    },
    {
     "name": "stdout",
     "output_type": "stream",
     "text": [
      "\tEpoch 32 complete! \tDenoising Loss:  0.016257511812031396\n"
     ]
    },
    {
     "name": "stderr",
     "output_type": "stream",
     "text": [
      "\n",
      "100%|██████████| 469/469 [00:31<00:00, 14.76it/s]"
     ]
    },
    {
     "name": "stdout",
     "output_type": "stream",
     "text": [
      "\tEpoch 33 complete! \tDenoising Loss:  0.01617229327909712\n"
     ]
    },
    {
     "name": "stderr",
     "output_type": "stream",
     "text": [
      "\n",
      "100%|██████████| 469/469 [00:31<00:00, 14.78it/s]"
     ]
    },
    {
     "name": "stdout",
     "output_type": "stream",
     "text": [
      "\tEpoch 34 complete! \tDenoising Loss:  0.01623539697840555\n"
     ]
    },
    {
     "name": "stderr",
     "output_type": "stream",
     "text": [
      "\n",
      "100%|██████████| 469/469 [00:31<00:00, 14.78it/s]"
     ]
    },
    {
     "name": "stdout",
     "output_type": "stream",
     "text": [
      "\tEpoch 35 complete! \tDenoising Loss:  0.01604640854196225\n"
     ]
    },
    {
     "name": "stderr",
     "output_type": "stream",
     "text": [
      "\n",
      "100%|██████████| 469/469 [00:31<00:00, 14.78it/s]\n"
     ]
    },
    {
     "name": "stdout",
     "output_type": "stream",
     "text": [
      "\tEpoch 36 complete! \tDenoising Loss:  0.015910289413494687\n"
     ]
    },
    {
     "name": "stderr",
     "output_type": "stream",
     "text": [
      "100%|██████████| 469/469 [00:31<00:00, 14.77it/s]"
     ]
    },
    {
     "name": "stdout",
     "output_type": "stream",
     "text": [
      "\tEpoch 37 complete! \tDenoising Loss:  0.016012903462108385\n"
     ]
    },
    {
     "name": "stderr",
     "output_type": "stream",
     "text": [
      "\n",
      "100%|██████████| 469/469 [00:31<00:00, 14.76it/s]"
     ]
    },
    {
     "name": "stdout",
     "output_type": "stream",
     "text": [
      "\tEpoch 38 complete! \tDenoising Loss:  0.016040288355663165\n"
     ]
    },
    {
     "name": "stderr",
     "output_type": "stream",
     "text": [
      "\n",
      "100%|██████████| 469/469 [00:31<00:00, 14.78it/s]"
     ]
    },
    {
     "name": "stdout",
     "output_type": "stream",
     "text": [
      "\tEpoch 39 complete! \tDenoising Loss:  0.015750866283813857\n"
     ]
    },
    {
     "name": "stderr",
     "output_type": "stream",
     "text": [
      "\n",
      "100%|██████████| 469/469 [00:31<00:00, 14.76it/s]"
     ]
    },
    {
     "name": "stdout",
     "output_type": "stream",
     "text": [
      "\tEpoch 40 complete! \tDenoising Loss:  0.01599321930876209\n"
     ]
    },
    {
     "name": "stderr",
     "output_type": "stream",
     "text": [
      "\n",
      "100%|██████████| 469/469 [00:31<00:00, 14.77it/s]"
     ]
    },
    {
     "name": "stdout",
     "output_type": "stream",
     "text": [
      "\tEpoch 41 complete! \tDenoising Loss:  0.015751082203390762\n"
     ]
    },
    {
     "name": "stderr",
     "output_type": "stream",
     "text": [
      "\n",
      "100%|██████████| 469/469 [00:31<00:00, 14.77it/s]"
     ]
    },
    {
     "name": "stdout",
     "output_type": "stream",
     "text": [
      "\tEpoch 42 complete! \tDenoising Loss:  0.015769301844028454\n"
     ]
    },
    {
     "name": "stderr",
     "output_type": "stream",
     "text": [
      "\n",
      "100%|██████████| 469/469 [00:31<00:00, 14.77it/s]"
     ]
    },
    {
     "name": "stdout",
     "output_type": "stream",
     "text": [
      "\tEpoch 43 complete! \tDenoising Loss:  0.01583149351585561\n"
     ]
    },
    {
     "name": "stderr",
     "output_type": "stream",
     "text": [
      "\n",
      "100%|██████████| 469/469 [00:31<00:00, 14.78it/s]"
     ]
    },
    {
     "name": "stdout",
     "output_type": "stream",
     "text": [
      "\tEpoch 44 complete! \tDenoising Loss:  0.015706461362747684\n"
     ]
    },
    {
     "name": "stderr",
     "output_type": "stream",
     "text": [
      "\n",
      "100%|██████████| 469/469 [00:31<00:00, 14.78it/s]"
     ]
    },
    {
     "name": "stdout",
     "output_type": "stream",
     "text": [
      "\tEpoch 45 complete! \tDenoising Loss:  0.015586204597981185\n"
     ]
    },
    {
     "name": "stderr",
     "output_type": "stream",
     "text": [
      "\n",
      "100%|██████████| 469/469 [00:31<00:00, 14.78it/s]\n"
     ]
    },
    {
     "name": "stdout",
     "output_type": "stream",
     "text": [
      "\tEpoch 46 complete! \tDenoising Loss:  0.015773554923585974\n"
     ]
    },
    {
     "name": "stderr",
     "output_type": "stream",
     "text": [
      "100%|██████████| 469/469 [00:31<00:00, 14.77it/s]"
     ]
    },
    {
     "name": "stdout",
     "output_type": "stream",
     "text": [
      "\tEpoch 47 complete! \tDenoising Loss:  0.01582033757486532\n"
     ]
    },
    {
     "name": "stderr",
     "output_type": "stream",
     "text": [
      "\n",
      "100%|██████████| 469/469 [00:31<00:00, 14.77it/s]"
     ]
    },
    {
     "name": "stdout",
     "output_type": "stream",
     "text": [
      "\tEpoch 48 complete! \tDenoising Loss:  0.015584473649406025\n"
     ]
    },
    {
     "name": "stderr",
     "output_type": "stream",
     "text": [
      "\n",
      "100%|██████████| 469/469 [00:31<00:00, 14.77it/s]"
     ]
    },
    {
     "name": "stdout",
     "output_type": "stream",
     "text": [
      "\tEpoch 49 complete! \tDenoising Loss:  0.01546250101035604\n"
     ]
    },
    {
     "name": "stderr",
     "output_type": "stream",
     "text": [
      "\n",
      "100%|██████████| 469/469 [00:31<00:00, 14.76it/s]"
     ]
    },
    {
     "name": "stdout",
     "output_type": "stream",
     "text": [
      "\tEpoch 50 complete! \tDenoising Loss:  0.015608655016184745\n"
     ]
    },
    {
     "name": "stderr",
     "output_type": "stream",
     "text": [
      "\n",
      "100%|██████████| 469/469 [00:31<00:00, 14.77it/s]"
     ]
    },
    {
     "name": "stdout",
     "output_type": "stream",
     "text": [
      "\tEpoch 51 complete! \tDenoising Loss:  0.015576418308127258\n"
     ]
    },
    {
     "name": "stderr",
     "output_type": "stream",
     "text": [
      "\n",
      "100%|██████████| 469/469 [00:31<00:00, 14.77it/s]\n"
     ]
    },
    {
     "name": "stdout",
     "output_type": "stream",
     "text": [
      "\tEpoch 52 complete! \tDenoising Loss:  0.015544095860682746\n"
     ]
    },
    {
     "name": "stderr",
     "output_type": "stream",
     "text": [
      "100%|██████████| 469/469 [00:31<00:00, 14.77it/s]"
     ]
    },
    {
     "name": "stdout",
     "output_type": "stream",
     "text": [
      "\tEpoch 53 complete! \tDenoising Loss:  0.01557397212371485\n"
     ]
    },
    {
     "name": "stderr",
     "output_type": "stream",
     "text": [
      "\n",
      "100%|██████████| 469/469 [00:31<00:00, 14.78it/s]"
     ]
    },
    {
     "name": "stdout",
     "output_type": "stream",
     "text": [
      "\tEpoch 54 complete! \tDenoising Loss:  0.015504606042264236\n"
     ]
    },
    {
     "name": "stderr",
     "output_type": "stream",
     "text": [
      "\n",
      "100%|██████████| 469/469 [00:31<00:00, 14.78it/s]"
     ]
    },
    {
     "name": "stdout",
     "output_type": "stream",
     "text": [
      "\tEpoch 55 complete! \tDenoising Loss:  0.01549399563939207\n"
     ]
    },
    {
     "name": "stderr",
     "output_type": "stream",
     "text": [
      "\n",
      "100%|██████████| 469/469 [00:31<00:00, 14.76it/s]"
     ]
    },
    {
     "name": "stdout",
     "output_type": "stream",
     "text": [
      "\tEpoch 56 complete! \tDenoising Loss:  0.01538222406903266\n"
     ]
    },
    {
     "name": "stderr",
     "output_type": "stream",
     "text": [
      "\n",
      "100%|██████████| 469/469 [00:31<00:00, 14.76it/s]"
     ]
    },
    {
     "name": "stdout",
     "output_type": "stream",
     "text": [
      "\tEpoch 57 complete! \tDenoising Loss:  0.015257683719914312\n"
     ]
    },
    {
     "name": "stderr",
     "output_type": "stream",
     "text": [
      "\n",
      "100%|██████████| 469/469 [00:31<00:00, 14.78it/s]"
     ]
    },
    {
     "name": "stdout",
     "output_type": "stream",
     "text": [
      "\tEpoch 58 complete! \tDenoising Loss:  0.015508049742804252\n"
     ]
    },
    {
     "name": "stderr",
     "output_type": "stream",
     "text": [
      "\n",
      "100%|██████████| 469/469 [00:31<00:00, 14.77it/s]"
     ]
    },
    {
     "name": "stdout",
     "output_type": "stream",
     "text": [
      "\tEpoch 59 complete! \tDenoising Loss:  0.015391289119202739\n"
     ]
    },
    {
     "name": "stderr",
     "output_type": "stream",
     "text": [
      "\n",
      "100%|██████████| 469/469 [00:31<00:00, 14.76it/s]"
     ]
    },
    {
     "name": "stdout",
     "output_type": "stream",
     "text": [
      "\tEpoch 60 complete! \tDenoising Loss:  0.015229065106528947\n"
     ]
    },
    {
     "name": "stderr",
     "output_type": "stream",
     "text": [
      "\n",
      "100%|██████████| 469/469 [00:31<00:00, 14.77it/s]"
     ]
    },
    {
     "name": "stdout",
     "output_type": "stream",
     "text": [
      "\tEpoch 61 complete! \tDenoising Loss:  0.015321572687333593\n"
     ]
    },
    {
     "name": "stderr",
     "output_type": "stream",
     "text": [
      "\n",
      "100%|██████████| 469/469 [00:31<00:00, 14.76it/s]"
     ]
    },
    {
     "name": "stdout",
     "output_type": "stream",
     "text": [
      "\tEpoch 62 complete! \tDenoising Loss:  0.015299258027305333\n"
     ]
    },
    {
     "name": "stderr",
     "output_type": "stream",
     "text": [
      "\n",
      "100%|██████████| 469/469 [00:31<00:00, 14.77it/s]\n"
     ]
    },
    {
     "name": "stdout",
     "output_type": "stream",
     "text": [
      "\tEpoch 63 complete! \tDenoising Loss:  0.01525103653438835\n"
     ]
    },
    {
     "name": "stderr",
     "output_type": "stream",
     "text": [
      "100%|██████████| 469/469 [00:31<00:00, 14.77it/s]\n"
     ]
    },
    {
     "name": "stdout",
     "output_type": "stream",
     "text": [
      "\tEpoch 64 complete! \tDenoising Loss:  0.015401114058943514\n"
     ]
    },
    {
     "name": "stderr",
     "output_type": "stream",
     "text": [
      "100%|██████████| 469/469 [00:31<00:00, 14.78it/s]\n"
     ]
    },
    {
     "name": "stdout",
     "output_type": "stream",
     "text": [
      "\tEpoch 65 complete! \tDenoising Loss:  0.01532115612545202\n"
     ]
    },
    {
     "name": "stderr",
     "output_type": "stream",
     "text": [
      "100%|██████████| 469/469 [00:31<00:00, 14.77it/s]"
     ]
    },
    {
     "name": "stdout",
     "output_type": "stream",
     "text": [
      "\tEpoch 66 complete! \tDenoising Loss:  0.015251588382813921\n"
     ]
    },
    {
     "name": "stderr",
     "output_type": "stream",
     "text": [
      "\n",
      "100%|██████████| 469/469 [00:31<00:00, 14.77it/s]"
     ]
    },
    {
     "name": "stdout",
     "output_type": "stream",
     "text": [
      "\tEpoch 67 complete! \tDenoising Loss:  0.015139257821899194\n"
     ]
    },
    {
     "name": "stderr",
     "output_type": "stream",
     "text": [
      "\n",
      "100%|██████████| 469/469 [00:31<00:00, 14.77it/s]"
     ]
    },
    {
     "name": "stdout",
     "output_type": "stream",
     "text": [
      "\tEpoch 68 complete! \tDenoising Loss:  0.015289973674548997\n"
     ]
    },
    {
     "name": "stderr",
     "output_type": "stream",
     "text": [
      "\n",
      "100%|██████████| 469/469 [00:31<00:00, 14.77it/s]"
     ]
    },
    {
     "name": "stdout",
     "output_type": "stream",
     "text": [
      "\tEpoch 69 complete! \tDenoising Loss:  0.015131368222208614\n"
     ]
    },
    {
     "name": "stderr",
     "output_type": "stream",
     "text": [
      "\n",
      "100%|██████████| 469/469 [00:31<00:00, 14.77it/s]"
     ]
    },
    {
     "name": "stdout",
     "output_type": "stream",
     "text": [
      "\tEpoch 70 complete! \tDenoising Loss:  0.015190905682408275\n"
     ]
    },
    {
     "name": "stderr",
     "output_type": "stream",
     "text": [
      "\n",
      "100%|██████████| 469/469 [00:31<00:00, 14.78it/s]"
     ]
    },
    {
     "name": "stdout",
     "output_type": "stream",
     "text": [
      "\tEpoch 71 complete! \tDenoising Loss:  0.014884841660212757\n"
     ]
    },
    {
     "name": "stderr",
     "output_type": "stream",
     "text": [
      "\n",
      "100%|██████████| 469/469 [00:31<00:00, 14.78it/s]"
     ]
    },
    {
     "name": "stdout",
     "output_type": "stream",
     "text": [
      "\tEpoch 72 complete! \tDenoising Loss:  0.015276166705940014\n"
     ]
    },
    {
     "name": "stderr",
     "output_type": "stream",
     "text": [
      "\n",
      "100%|██████████| 469/469 [00:31<00:00, 14.78it/s]"
     ]
    },
    {
     "name": "stdout",
     "output_type": "stream",
     "text": [
      "\tEpoch 73 complete! \tDenoising Loss:  0.015011185995088173\n"
     ]
    },
    {
     "name": "stderr",
     "output_type": "stream",
     "text": [
      "\n",
      "100%|██████████| 469/469 [00:31<00:00, 14.77it/s]"
     ]
    },
    {
     "name": "stdout",
     "output_type": "stream",
     "text": [
      "\tEpoch 74 complete! \tDenoising Loss:  0.015118478580465557\n"
     ]
    },
    {
     "name": "stderr",
     "output_type": "stream",
     "text": [
      "\n",
      "100%|██████████| 469/469 [00:31<00:00, 14.77it/s]"
     ]
    },
    {
     "name": "stdout",
     "output_type": "stream",
     "text": [
      "\tEpoch 75 complete! \tDenoising Loss:  0.01501163311748423\n"
     ]
    },
    {
     "name": "stderr",
     "output_type": "stream",
     "text": [
      "\n",
      "100%|██████████| 469/469 [00:31<00:00, 14.78it/s]"
     ]
    },
    {
     "name": "stdout",
     "output_type": "stream",
     "text": [
      "\tEpoch 76 complete! \tDenoising Loss:  0.015098308686676443\n"
     ]
    },
    {
     "name": "stderr",
     "output_type": "stream",
     "text": [
      "\n",
      "100%|██████████| 469/469 [00:31<00:00, 14.77it/s]"
     ]
    },
    {
     "name": "stdout",
     "output_type": "stream",
     "text": [
      "\tEpoch 77 complete! \tDenoising Loss:  0.014974048333322136\n"
     ]
    },
    {
     "name": "stderr",
     "output_type": "stream",
     "text": [
      "\n",
      "100%|██████████| 469/469 [00:31<00:00, 14.77it/s]"
     ]
    },
    {
     "name": "stdout",
     "output_type": "stream",
     "text": [
      "\tEpoch 78 complete! \tDenoising Loss:  0.014954531358347999\n"
     ]
    },
    {
     "name": "stderr",
     "output_type": "stream",
     "text": [
      "\n",
      "100%|██████████| 469/469 [00:31<00:00, 14.77it/s]"
     ]
    },
    {
     "name": "stdout",
     "output_type": "stream",
     "text": [
      "\tEpoch 79 complete! \tDenoising Loss:  0.014978282434197191\n"
     ]
    },
    {
     "name": "stderr",
     "output_type": "stream",
     "text": [
      "\n",
      "100%|██████████| 469/469 [00:31<00:00, 14.77it/s]"
     ]
    },
    {
     "name": "stdout",
     "output_type": "stream",
     "text": [
      "\tEpoch 80 complete! \tDenoising Loss:  0.014956037941762907\n"
     ]
    },
    {
     "name": "stderr",
     "output_type": "stream",
     "text": [
      "\n",
      "100%|██████████| 469/469 [00:31<00:00, 14.77it/s]"
     ]
    },
    {
     "name": "stdout",
     "output_type": "stream",
     "text": [
      "\tEpoch 81 complete! \tDenoising Loss:  0.01504060771698371\n"
     ]
    },
    {
     "name": "stderr",
     "output_type": "stream",
     "text": [
      "\n",
      "100%|██████████| 469/469 [00:31<00:00, 14.78it/s]"
     ]
    },
    {
     "name": "stdout",
     "output_type": "stream",
     "text": [
      "\tEpoch 82 complete! \tDenoising Loss:  0.014910181558444204\n"
     ]
    },
    {
     "name": "stderr",
     "output_type": "stream",
     "text": [
      "\n",
      "100%|██████████| 469/469 [00:31<00:00, 14.78it/s]"
     ]
    },
    {
     "name": "stdout",
     "output_type": "stream",
     "text": [
      "\tEpoch 83 complete! \tDenoising Loss:  0.01491613369076871\n"
     ]
    },
    {
     "name": "stderr",
     "output_type": "stream",
     "text": [
      "\n",
      "100%|██████████| 469/469 [00:31<00:00, 14.77it/s]"
     ]
    },
    {
     "name": "stdout",
     "output_type": "stream",
     "text": [
      "\tEpoch 84 complete! \tDenoising Loss:  0.014872925182899985\n"
     ]
    },
    {
     "name": "stderr",
     "output_type": "stream",
     "text": [
      "\n",
      "100%|██████████| 469/469 [00:31<00:00, 14.78it/s]"
     ]
    },
    {
     "name": "stdout",
     "output_type": "stream",
     "text": [
      "\tEpoch 85 complete! \tDenoising Loss:  0.014892146464946687\n"
     ]
    },
    {
     "name": "stderr",
     "output_type": "stream",
     "text": [
      "\n",
      "100%|██████████| 469/469 [00:31<00:00, 14.77it/s]"
     ]
    },
    {
     "name": "stdout",
     "output_type": "stream",
     "text": [
      "\tEpoch 86 complete! \tDenoising Loss:  0.014774660207729181\n"
     ]
    },
    {
     "name": "stderr",
     "output_type": "stream",
     "text": [
      "\n",
      "100%|██████████| 469/469 [00:31<00:00, 14.78it/s]"
     ]
    },
    {
     "name": "stdout",
     "output_type": "stream",
     "text": [
      "\tEpoch 87 complete! \tDenoising Loss:  0.014988368635790216\n"
     ]
    },
    {
     "name": "stderr",
     "output_type": "stream",
     "text": [
      "\n",
      "100%|██████████| 469/469 [00:31<00:00, 14.77it/s]"
     ]
    },
    {
     "name": "stdout",
     "output_type": "stream",
     "text": [
      "\tEpoch 88 complete! \tDenoising Loss:  0.014901793287255062\n"
     ]
    },
    {
     "name": "stderr",
     "output_type": "stream",
     "text": [
      "\n",
      "100%|██████████| 469/469 [00:31<00:00, 14.78it/s]"
     ]
    },
    {
     "name": "stdout",
     "output_type": "stream",
     "text": [
      "\tEpoch 89 complete! \tDenoising Loss:  0.014954301240081843\n"
     ]
    },
    {
     "name": "stderr",
     "output_type": "stream",
     "text": [
      "\n",
      "100%|██████████| 469/469 [00:31<00:00, 14.76it/s]"
     ]
    },
    {
     "name": "stdout",
     "output_type": "stream",
     "text": [
      "\tEpoch 90 complete! \tDenoising Loss:  0.01495617150894215\n"
     ]
    },
    {
     "name": "stderr",
     "output_type": "stream",
     "text": [
      "\n",
      "100%|██████████| 469/469 [00:31<00:00, 14.77it/s]"
     ]
    },
    {
     "name": "stdout",
     "output_type": "stream",
     "text": [
      "\tEpoch 91 complete! \tDenoising Loss:  0.01472280372101336\n"
     ]
    },
    {
     "name": "stderr",
     "output_type": "stream",
     "text": [
      "\n",
      "100%|██████████| 469/469 [00:31<00:00, 14.77it/s]"
     ]
    },
    {
     "name": "stdout",
     "output_type": "stream",
     "text": [
      "\tEpoch 92 complete! \tDenoising Loss:  0.014849870587086193\n"
     ]
    },
    {
     "name": "stderr",
     "output_type": "stream",
     "text": [
      "\n",
      "100%|██████████| 469/469 [00:31<00:00, 14.77it/s]"
     ]
    },
    {
     "name": "stdout",
     "output_type": "stream",
     "text": [
      "\tEpoch 93 complete! \tDenoising Loss:  0.014647872037946796\n"
     ]
    },
    {
     "name": "stderr",
     "output_type": "stream",
     "text": [
      "\n",
      "100%|██████████| 469/469 [00:31<00:00, 14.77it/s]"
     ]
    },
    {
     "name": "stdout",
     "output_type": "stream",
     "text": [
      "\tEpoch 94 complete! \tDenoising Loss:  0.014799857054415166\n"
     ]
    },
    {
     "name": "stderr",
     "output_type": "stream",
     "text": [
      "\n",
      "100%|██████████| 469/469 [00:31<00:00, 14.78it/s]"
     ]
    },
    {
     "name": "stdout",
     "output_type": "stream",
     "text": [
      "\tEpoch 95 complete! \tDenoising Loss:  0.01489151362528722\n"
     ]
    },
    {
     "name": "stderr",
     "output_type": "stream",
     "text": [
      "\n",
      "100%|██████████| 469/469 [00:31<00:00, 14.77it/s]"
     ]
    },
    {
     "name": "stdout",
     "output_type": "stream",
     "text": [
      "\tEpoch 96 complete! \tDenoising Loss:  0.014749236321315551\n"
     ]
    },
    {
     "name": "stderr",
     "output_type": "stream",
     "text": [
      "\n",
      "100%|██████████| 469/469 [00:31<00:00, 14.78it/s]"
     ]
    },
    {
     "name": "stdout",
     "output_type": "stream",
     "text": [
      "\tEpoch 97 complete! \tDenoising Loss:  0.014765161790081069\n"
     ]
    },
    {
     "name": "stderr",
     "output_type": "stream",
     "text": [
      "\n",
      "100%|██████████| 469/469 [00:31<00:00, 14.78it/s]"
     ]
    },
    {
     "name": "stdout",
     "output_type": "stream",
     "text": [
      "\tEpoch 98 complete! \tDenoising Loss:  0.01479627594200528\n"
     ]
    },
    {
     "name": "stderr",
     "output_type": "stream",
     "text": [
      "\n",
      "100%|██████████| 469/469 [00:31<00:00, 14.77it/s]"
     ]
    },
    {
     "name": "stdout",
     "output_type": "stream",
     "text": [
      "\tEpoch 99 complete! \tDenoising Loss:  0.014801596645584218\n"
     ]
    },
    {
     "name": "stderr",
     "output_type": "stream",
     "text": [
      "\n",
      "100%|██████████| 469/469 [00:31<00:00, 14.77it/s]"
     ]
    },
    {
     "name": "stdout",
     "output_type": "stream",
     "text": [
      "\tEpoch 100 complete! \tDenoising Loss:  0.014548257733575808\n"
     ]
    },
    {
     "name": "stderr",
     "output_type": "stream",
     "text": [
      "\n",
      "100%|██████████| 469/469 [00:31<00:00, 14.78it/s]"
     ]
    },
    {
     "name": "stdout",
     "output_type": "stream",
     "text": [
      "\tEpoch 101 complete! \tDenoising Loss:  0.014739314937948162\n"
     ]
    },
    {
     "name": "stderr",
     "output_type": "stream",
     "text": [
      "\n",
      "100%|██████████| 469/469 [00:31<00:00, 14.76it/s]"
     ]
    },
    {
     "name": "stdout",
     "output_type": "stream",
     "text": [
      "\tEpoch 102 complete! \tDenoising Loss:  0.014896111761848642\n"
     ]
    },
    {
     "name": "stderr",
     "output_type": "stream",
     "text": [
      "\n",
      "100%|██████████| 469/469 [00:31<00:00, 14.77it/s]"
     ]
    },
    {
     "name": "stdout",
     "output_type": "stream",
     "text": [
      "\tEpoch 103 complete! \tDenoising Loss:  0.014605004975221988\n"
     ]
    },
    {
     "name": "stderr",
     "output_type": "stream",
     "text": [
      "\n",
      "100%|██████████| 469/469 [00:31<00:00, 14.78it/s]"
     ]
    },
    {
     "name": "stdout",
     "output_type": "stream",
     "text": [
      "\tEpoch 104 complete! \tDenoising Loss:  0.014497587041388083\n"
     ]
    },
    {
     "name": "stderr",
     "output_type": "stream",
     "text": [
      "\n",
      "100%|██████████| 469/469 [00:31<00:00, 14.78it/s]"
     ]
    },
    {
     "name": "stdout",
     "output_type": "stream",
     "text": [
      "\tEpoch 105 complete! \tDenoising Loss:  0.014700729774040544\n"
     ]
    },
    {
     "name": "stderr",
     "output_type": "stream",
     "text": [
      "\n",
      "100%|██████████| 469/469 [00:31<00:00, 14.78it/s]"
     ]
    },
    {
     "name": "stdout",
     "output_type": "stream",
     "text": [
      "\tEpoch 106 complete! \tDenoising Loss:  0.014545684057470953\n"
     ]
    },
    {
     "name": "stderr",
     "output_type": "stream",
     "text": [
      "\n",
      "100%|██████████| 469/469 [00:31<00:00, 14.76it/s]"
     ]
    },
    {
     "name": "stdout",
     "output_type": "stream",
     "text": [
      "\tEpoch 107 complete! \tDenoising Loss:  0.014817750708271678\n"
     ]
    },
    {
     "name": "stderr",
     "output_type": "stream",
     "text": [
      "\n",
      "100%|██████████| 469/469 [00:31<00:00, 14.77it/s]"
     ]
    },
    {
     "name": "stdout",
     "output_type": "stream",
     "text": [
      "\tEpoch 108 complete! \tDenoising Loss:  0.014800287820956009\n"
     ]
    },
    {
     "name": "stderr",
     "output_type": "stream",
     "text": [
      "\n",
      "100%|██████████| 469/469 [00:31<00:00, 14.77it/s]"
     ]
    },
    {
     "name": "stdout",
     "output_type": "stream",
     "text": [
      "\tEpoch 109 complete! \tDenoising Loss:  0.014731387870434003\n"
     ]
    },
    {
     "name": "stderr",
     "output_type": "stream",
     "text": [
      "\n",
      "100%|██████████| 469/469 [00:31<00:00, 14.78it/s]"
     ]
    },
    {
     "name": "stdout",
     "output_type": "stream",
     "text": [
      "\tEpoch 110 complete! \tDenoising Loss:  0.014585217039108787\n"
     ]
    },
    {
     "name": "stderr",
     "output_type": "stream",
     "text": [
      "\n",
      "100%|██████████| 469/469 [00:31<00:00, 14.78it/s]"
     ]
    },
    {
     "name": "stdout",
     "output_type": "stream",
     "text": [
      "\tEpoch 111 complete! \tDenoising Loss:  0.014736187234361712\n"
     ]
    },
    {
     "name": "stderr",
     "output_type": "stream",
     "text": [
      "\n",
      "100%|██████████| 469/469 [00:31<00:00, 14.78it/s]"
     ]
    },
    {
     "name": "stdout",
     "output_type": "stream",
     "text": [
      "\tEpoch 112 complete! \tDenoising Loss:  0.014656884410681251\n"
     ]
    },
    {
     "name": "stderr",
     "output_type": "stream",
     "text": [
      "\n",
      "100%|██████████| 469/469 [00:31<00:00, 14.77it/s]"
     ]
    },
    {
     "name": "stdout",
     "output_type": "stream",
     "text": [
      "\tEpoch 113 complete! \tDenoising Loss:  0.014805863746720502\n"
     ]
    },
    {
     "name": "stderr",
     "output_type": "stream",
     "text": [
      "\n",
      "100%|██████████| 469/469 [00:31<00:00, 14.77it/s]"
     ]
    },
    {
     "name": "stdout",
     "output_type": "stream",
     "text": [
      "\tEpoch 114 complete! \tDenoising Loss:  0.014511788164416695\n"
     ]
    },
    {
     "name": "stderr",
     "output_type": "stream",
     "text": [
      "\n",
      "100%|██████████| 469/469 [00:31<00:00, 14.77it/s]"
     ]
    },
    {
     "name": "stdout",
     "output_type": "stream",
     "text": [
      "\tEpoch 115 complete! \tDenoising Loss:  0.014474376283872586\n"
     ]
    },
    {
     "name": "stderr",
     "output_type": "stream",
     "text": [
      "\n",
      "100%|██████████| 469/469 [00:31<00:00, 14.78it/s]\n"
     ]
    },
    {
     "name": "stdout",
     "output_type": "stream",
     "text": [
      "\tEpoch 116 complete! \tDenoising Loss:  0.014549432183082541\n"
     ]
    },
    {
     "name": "stderr",
     "output_type": "stream",
     "text": [
      "100%|██████████| 469/469 [00:31<00:00, 14.77it/s]\n"
     ]
    },
    {
     "name": "stdout",
     "output_type": "stream",
     "text": [
      "\tEpoch 117 complete! \tDenoising Loss:  0.014658847055596929\n"
     ]
    },
    {
     "name": "stderr",
     "output_type": "stream",
     "text": [
      "100%|██████████| 469/469 [00:31<00:00, 14.78it/s]"
     ]
    },
    {
     "name": "stdout",
     "output_type": "stream",
     "text": [
      "\tEpoch 118 complete! \tDenoising Loss:  0.014612643961579753\n"
     ]
    },
    {
     "name": "stderr",
     "output_type": "stream",
     "text": [
      "\n",
      "100%|██████████| 469/469 [00:31<00:00, 14.78it/s]"
     ]
    },
    {
     "name": "stdout",
     "output_type": "stream",
     "text": [
      "\tEpoch 119 complete! \tDenoising Loss:  0.014473188155068036\n"
     ]
    },
    {
     "name": "stderr",
     "output_type": "stream",
     "text": [
      "\n",
      "100%|██████████| 469/469 [00:31<00:00, 14.77it/s]"
     ]
    },
    {
     "name": "stdout",
     "output_type": "stream",
     "text": [
      "\tEpoch 120 complete! \tDenoising Loss:  0.01461275582973901\n"
     ]
    },
    {
     "name": "stderr",
     "output_type": "stream",
     "text": [
      "\n",
      "100%|██████████| 469/469 [00:31<00:00, 14.78it/s]"
     ]
    },
    {
     "name": "stdout",
     "output_type": "stream",
     "text": [
      "\tEpoch 121 complete! \tDenoising Loss:  0.014675660990178585\n"
     ]
    },
    {
     "name": "stderr",
     "output_type": "stream",
     "text": [
      "\n",
      "100%|██████████| 469/469 [00:31<00:00, 14.77it/s]"
     ]
    },
    {
     "name": "stdout",
     "output_type": "stream",
     "text": [
      "\tEpoch 122 complete! \tDenoising Loss:  0.014442535320249123\n"
     ]
    },
    {
     "name": "stderr",
     "output_type": "stream",
     "text": [
      "\n",
      "100%|██████████| 469/469 [00:31<00:00, 14.77it/s]"
     ]
    },
    {
     "name": "stdout",
     "output_type": "stream",
     "text": [
      "\tEpoch 123 complete! \tDenoising Loss:  0.014455989044971572\n"
     ]
    },
    {
     "name": "stderr",
     "output_type": "stream",
     "text": [
      "\n",
      "100%|██████████| 469/469 [00:31<00:00, 14.77it/s]"
     ]
    },
    {
     "name": "stdout",
     "output_type": "stream",
     "text": [
      "\tEpoch 124 complete! \tDenoising Loss:  0.014576895528624201\n"
     ]
    },
    {
     "name": "stderr",
     "output_type": "stream",
     "text": [
      "\n",
      "100%|██████████| 469/469 [00:31<00:00, 14.77it/s]"
     ]
    },
    {
     "name": "stdout",
     "output_type": "stream",
     "text": [
      "\tEpoch 125 complete! \tDenoising Loss:  0.014571175249850648\n"
     ]
    },
    {
     "name": "stderr",
     "output_type": "stream",
     "text": [
      "\n",
      "100%|██████████| 469/469 [00:31<00:00, 14.77it/s]"
     ]
    },
    {
     "name": "stdout",
     "output_type": "stream",
     "text": [
      "\tEpoch 126 complete! \tDenoising Loss:  0.014665516754055126\n"
     ]
    },
    {
     "name": "stderr",
     "output_type": "stream",
     "text": [
      "\n",
      "100%|██████████| 469/469 [00:31<00:00, 14.77it/s]"
     ]
    },
    {
     "name": "stdout",
     "output_type": "stream",
     "text": [
      "\tEpoch 127 complete! \tDenoising Loss:  0.014584930679307152\n"
     ]
    },
    {
     "name": "stderr",
     "output_type": "stream",
     "text": [
      "\n",
      "100%|██████████| 469/469 [00:31<00:00, 14.77it/s]"
     ]
    },
    {
     "name": "stdout",
     "output_type": "stream",
     "text": [
      "\tEpoch 128 complete! \tDenoising Loss:  0.014512645156305825\n"
     ]
    },
    {
     "name": "stderr",
     "output_type": "stream",
     "text": [
      "\n",
      "100%|██████████| 469/469 [00:31<00:00, 14.77it/s]"
     ]
    },
    {
     "name": "stdout",
     "output_type": "stream",
     "text": [
      "\tEpoch 129 complete! \tDenoising Loss:  0.014574182006872745\n"
     ]
    },
    {
     "name": "stderr",
     "output_type": "stream",
     "text": [
      "\n",
      "100%|██████████| 469/469 [00:31<00:00, 14.77it/s]"
     ]
    },
    {
     "name": "stdout",
     "output_type": "stream",
     "text": [
      "\tEpoch 130 complete! \tDenoising Loss:  0.014489355384626895\n"
     ]
    },
    {
     "name": "stderr",
     "output_type": "stream",
     "text": [
      "\n",
      "100%|██████████| 469/469 [00:31<00:00, 14.78it/s]"
     ]
    },
    {
     "name": "stdout",
     "output_type": "stream",
     "text": [
      "\tEpoch 131 complete! \tDenoising Loss:  0.014483269815468509\n"
     ]
    },
    {
     "name": "stderr",
     "output_type": "stream",
     "text": [
      "\n",
      "100%|██████████| 469/469 [00:31<00:00, 14.78it/s]"
     ]
    },
    {
     "name": "stdout",
     "output_type": "stream",
     "text": [
      "\tEpoch 132 complete! \tDenoising Loss:  0.01428703432624093\n"
     ]
    },
    {
     "name": "stderr",
     "output_type": "stream",
     "text": [
      "\n",
      "100%|██████████| 469/469 [00:31<00:00, 14.78it/s]"
     ]
    },
    {
     "name": "stdout",
     "output_type": "stream",
     "text": [
      "\tEpoch 133 complete! \tDenoising Loss:  0.014486796190787075\n"
     ]
    },
    {
     "name": "stderr",
     "output_type": "stream",
     "text": [
      "\n",
      "100%|██████████| 469/469 [00:31<00:00, 14.77it/s]"
     ]
    },
    {
     "name": "stdout",
     "output_type": "stream",
     "text": [
      "\tEpoch 134 complete! \tDenoising Loss:  0.014581612856565123\n"
     ]
    },
    {
     "name": "stderr",
     "output_type": "stream",
     "text": [
      "\n",
      "100%|██████████| 469/469 [00:31<00:00, 14.77it/s]"
     ]
    },
    {
     "name": "stdout",
     "output_type": "stream",
     "text": [
      "\tEpoch 135 complete! \tDenoising Loss:  0.014500711748026248\n"
     ]
    },
    {
     "name": "stderr",
     "output_type": "stream",
     "text": [
      "\n",
      "100%|██████████| 469/469 [00:31<00:00, 14.77it/s]"
     ]
    },
    {
     "name": "stdout",
     "output_type": "stream",
     "text": [
      "\tEpoch 136 complete! \tDenoising Loss:  0.014199254103004932\n"
     ]
    },
    {
     "name": "stderr",
     "output_type": "stream",
     "text": [
      "\n",
      "100%|██████████| 469/469 [00:31<00:00, 14.77it/s]"
     ]
    },
    {
     "name": "stdout",
     "output_type": "stream",
     "text": [
      "\tEpoch 137 complete! \tDenoising Loss:  0.014413026354522405\n"
     ]
    },
    {
     "name": "stderr",
     "output_type": "stream",
     "text": [
      "\n",
      "100%|██████████| 469/469 [00:31<00:00, 14.77it/s]"
     ]
    },
    {
     "name": "stdout",
     "output_type": "stream",
     "text": [
      "\tEpoch 138 complete! \tDenoising Loss:  0.01433808147174935\n"
     ]
    },
    {
     "name": "stderr",
     "output_type": "stream",
     "text": [
      "\n",
      "100%|██████████| 469/469 [00:31<00:00, 14.77it/s]"
     ]
    },
    {
     "name": "stdout",
     "output_type": "stream",
     "text": [
      "\tEpoch 139 complete! \tDenoising Loss:  0.014393181504251866\n"
     ]
    },
    {
     "name": "stderr",
     "output_type": "stream",
     "text": [
      "\n",
      "100%|██████████| 469/469 [00:31<00:00, 14.78it/s]"
     ]
    },
    {
     "name": "stdout",
     "output_type": "stream",
     "text": [
      "\tEpoch 140 complete! \tDenoising Loss:  0.014470488177294023\n"
     ]
    },
    {
     "name": "stderr",
     "output_type": "stream",
     "text": [
      "\n",
      "100%|██████████| 469/469 [00:31<00:00, 14.76it/s]"
     ]
    },
    {
     "name": "stdout",
     "output_type": "stream",
     "text": [
      "\tEpoch 141 complete! \tDenoising Loss:  0.014518114039674401\n"
     ]
    },
    {
     "name": "stderr",
     "output_type": "stream",
     "text": [
      "\n",
      "100%|██████████| 469/469 [00:31<00:00, 14.76it/s]"
     ]
    },
    {
     "name": "stdout",
     "output_type": "stream",
     "text": [
      "\tEpoch 142 complete! \tDenoising Loss:  0.014393635163815994\n"
     ]
    },
    {
     "name": "stderr",
     "output_type": "stream",
     "text": [
      "\n",
      "100%|██████████| 469/469 [00:31<00:00, 14.78it/s]"
     ]
    },
    {
     "name": "stdout",
     "output_type": "stream",
     "text": [
      "\tEpoch 143 complete! \tDenoising Loss:  0.014391399460295454\n"
     ]
    },
    {
     "name": "stderr",
     "output_type": "stream",
     "text": [
      "\n",
      "100%|██████████| 469/469 [00:31<00:00, 14.78it/s]"
     ]
    },
    {
     "name": "stdout",
     "output_type": "stream",
     "text": [
      "\tEpoch 144 complete! \tDenoising Loss:  0.014382761749876743\n"
     ]
    },
    {
     "name": "stderr",
     "output_type": "stream",
     "text": [
      "\n",
      "100%|██████████| 469/469 [00:31<00:00, 14.76it/s]"
     ]
    },
    {
     "name": "stdout",
     "output_type": "stream",
     "text": [
      "\tEpoch 145 complete! \tDenoising Loss:  0.014343802749505665\n"
     ]
    },
    {
     "name": "stderr",
     "output_type": "stream",
     "text": [
      "\n",
      "100%|██████████| 469/469 [00:31<00:00, 14.77it/s]"
     ]
    },
    {
     "name": "stdout",
     "output_type": "stream",
     "text": [
      "\tEpoch 146 complete! \tDenoising Loss:  0.014342746960046964\n"
     ]
    },
    {
     "name": "stderr",
     "output_type": "stream",
     "text": [
      "\n",
      "100%|██████████| 469/469 [00:31<00:00, 14.77it/s]"
     ]
    },
    {
     "name": "stdout",
     "output_type": "stream",
     "text": [
      "\tEpoch 147 complete! \tDenoising Loss:  0.01425511022615764\n"
     ]
    },
    {
     "name": "stderr",
     "output_type": "stream",
     "text": [
      "\n",
      "100%|██████████| 469/469 [00:31<00:00, 14.77it/s]"
     ]
    },
    {
     "name": "stdout",
     "output_type": "stream",
     "text": [
      "\tEpoch 148 complete! \tDenoising Loss:  0.014552198760370668\n"
     ]
    },
    {
     "name": "stderr",
     "output_type": "stream",
     "text": [
      "\n",
      "100%|██████████| 469/469 [00:31<00:00, 14.77it/s]"
     ]
    },
    {
     "name": "stdout",
     "output_type": "stream",
     "text": [
      "\tEpoch 149 complete! \tDenoising Loss:  0.014455891307841381\n"
     ]
    },
    {
     "name": "stderr",
     "output_type": "stream",
     "text": [
      "\n",
      "100%|██████████| 469/469 [00:31<00:00, 14.78it/s]"
     ]
    },
    {
     "name": "stdout",
     "output_type": "stream",
     "text": [
      "\tEpoch 150 complete! \tDenoising Loss:  0.01445380166077461\n"
     ]
    },
    {
     "name": "stderr",
     "output_type": "stream",
     "text": [
      "\n",
      "100%|██████████| 469/469 [00:31<00:00, 14.78it/s]"
     ]
    },
    {
     "name": "stdout",
     "output_type": "stream",
     "text": [
      "\tEpoch 151 complete! \tDenoising Loss:  0.014463719070101013\n"
     ]
    },
    {
     "name": "stderr",
     "output_type": "stream",
     "text": [
      "\n",
      "100%|██████████| 469/469 [00:31<00:00, 14.77it/s]"
     ]
    },
    {
     "name": "stdout",
     "output_type": "stream",
     "text": [
      "\tEpoch 152 complete! \tDenoising Loss:  0.01438449078804662\n"
     ]
    },
    {
     "name": "stderr",
     "output_type": "stream",
     "text": [
      "\n",
      "100%|██████████| 469/469 [00:31<00:00, 14.77it/s]"
     ]
    },
    {
     "name": "stdout",
     "output_type": "stream",
     "text": [
      "\tEpoch 153 complete! \tDenoising Loss:  0.014610922278470209\n"
     ]
    },
    {
     "name": "stderr",
     "output_type": "stream",
     "text": [
      "\n",
      "100%|██████████| 469/469 [00:31<00:00, 14.78it/s]"
     ]
    },
    {
     "name": "stdout",
     "output_type": "stream",
     "text": [
      "\tEpoch 154 complete! \tDenoising Loss:  0.014264150562449398\n"
     ]
    },
    {
     "name": "stderr",
     "output_type": "stream",
     "text": [
      "\n",
      "100%|██████████| 469/469 [00:31<00:00, 14.78it/s]"
     ]
    },
    {
     "name": "stdout",
     "output_type": "stream",
     "text": [
      "\tEpoch 155 complete! \tDenoising Loss:  0.014345002915853491\n"
     ]
    },
    {
     "name": "stderr",
     "output_type": "stream",
     "text": [
      "\n",
      "100%|██████████| 469/469 [00:31<00:00, 14.76it/s]"
     ]
    },
    {
     "name": "stdout",
     "output_type": "stream",
     "text": [
      "\tEpoch 156 complete! \tDenoising Loss:  0.014385648203106264\n"
     ]
    },
    {
     "name": "stderr",
     "output_type": "stream",
     "text": [
      "\n",
      "100%|██████████| 469/469 [00:31<00:00, 14.78it/s]"
     ]
    },
    {
     "name": "stdout",
     "output_type": "stream",
     "text": [
      "\tEpoch 157 complete! \tDenoising Loss:  0.014206881262760004\n"
     ]
    },
    {
     "name": "stderr",
     "output_type": "stream",
     "text": [
      "\n",
      "100%|██████████| 469/469 [00:31<00:00, 14.78it/s]"
     ]
    },
    {
     "name": "stdout",
     "output_type": "stream",
     "text": [
      "\tEpoch 158 complete! \tDenoising Loss:  0.014396565303636285\n"
     ]
    },
    {
     "name": "stderr",
     "output_type": "stream",
     "text": [
      "\n",
      "100%|██████████| 469/469 [00:31<00:00, 14.77it/s]"
     ]
    },
    {
     "name": "stdout",
     "output_type": "stream",
     "text": [
      "\tEpoch 159 complete! \tDenoising Loss:  0.014238397875386808\n"
     ]
    },
    {
     "name": "stderr",
     "output_type": "stream",
     "text": [
      "\n",
      "100%|██████████| 469/469 [00:31<00:00, 14.77it/s]"
     ]
    },
    {
     "name": "stdout",
     "output_type": "stream",
     "text": [
      "\tEpoch 160 complete! \tDenoising Loss:  0.014387880836048314\n"
     ]
    },
    {
     "name": "stderr",
     "output_type": "stream",
     "text": [
      "\n",
      "100%|██████████| 469/469 [00:31<00:00, 14.77it/s]"
     ]
    },
    {
     "name": "stdout",
     "output_type": "stream",
     "text": [
      "\tEpoch 161 complete! \tDenoising Loss:  0.014185452674571266\n"
     ]
    },
    {
     "name": "stderr",
     "output_type": "stream",
     "text": [
      "\n",
      "100%|██████████| 469/469 [00:31<00:00, 14.76it/s]"
     ]
    },
    {
     "name": "stdout",
     "output_type": "stream",
     "text": [
      "\tEpoch 162 complete! \tDenoising Loss:  0.014306230209847419\n"
     ]
    },
    {
     "name": "stderr",
     "output_type": "stream",
     "text": [
      "\n",
      "100%|██████████| 469/469 [00:31<00:00, 14.78it/s]"
     ]
    },
    {
     "name": "stdout",
     "output_type": "stream",
     "text": [
      "\tEpoch 163 complete! \tDenoising Loss:  0.014296976938987007\n"
     ]
    },
    {
     "name": "stderr",
     "output_type": "stream",
     "text": [
      "\n",
      "100%|██████████| 469/469 [00:31<00:00, 14.77it/s]"
     ]
    },
    {
     "name": "stdout",
     "output_type": "stream",
     "text": [
      "\tEpoch 164 complete! \tDenoising Loss:  0.014343246964849213\n"
     ]
    },
    {
     "name": "stderr",
     "output_type": "stream",
     "text": [
      "\n",
      "100%|██████████| 469/469 [00:31<00:00, 14.77it/s]"
     ]
    },
    {
     "name": "stdout",
     "output_type": "stream",
     "text": [
      "\tEpoch 165 complete! \tDenoising Loss:  0.014247100219194196\n"
     ]
    },
    {
     "name": "stderr",
     "output_type": "stream",
     "text": [
      "\n",
      "100%|██████████| 469/469 [00:31<00:00, 14.77it/s]"
     ]
    },
    {
     "name": "stdout",
     "output_type": "stream",
     "text": [
      "\tEpoch 166 complete! \tDenoising Loss:  0.01444818384738432\n"
     ]
    },
    {
     "name": "stderr",
     "output_type": "stream",
     "text": [
      "\n",
      "100%|██████████| 469/469 [00:31<00:00, 14.77it/s]"
     ]
    },
    {
     "name": "stdout",
     "output_type": "stream",
     "text": [
      "\tEpoch 167 complete! \tDenoising Loss:  0.014260662908657875\n"
     ]
    },
    {
     "name": "stderr",
     "output_type": "stream",
     "text": [
      "\n",
      "100%|██████████| 469/469 [00:31<00:00, 14.77it/s]"
     ]
    },
    {
     "name": "stdout",
     "output_type": "stream",
     "text": [
      "\tEpoch 168 complete! \tDenoising Loss:  0.014345065400036227\n"
     ]
    },
    {
     "name": "stderr",
     "output_type": "stream",
     "text": [
      "\n",
      "100%|██████████| 469/469 [00:31<00:00, 14.77it/s]"
     ]
    },
    {
     "name": "stdout",
     "output_type": "stream",
     "text": [
      "\tEpoch 169 complete! \tDenoising Loss:  0.01428334291976614\n"
     ]
    },
    {
     "name": "stderr",
     "output_type": "stream",
     "text": [
      "\n",
      "100%|██████████| 469/469 [00:31<00:00, 14.77it/s]"
     ]
    },
    {
     "name": "stdout",
     "output_type": "stream",
     "text": [
      "\tEpoch 170 complete! \tDenoising Loss:  0.01420212903808261\n"
     ]
    },
    {
     "name": "stderr",
     "output_type": "stream",
     "text": [
      "\n",
      "100%|██████████| 469/469 [00:31<00:00, 14.78it/s]"
     ]
    },
    {
     "name": "stdout",
     "output_type": "stream",
     "text": [
      "\tEpoch 171 complete! \tDenoising Loss:  0.014214689053324426\n"
     ]
    },
    {
     "name": "stderr",
     "output_type": "stream",
     "text": [
      "\n",
      "100%|██████████| 469/469 [00:31<00:00, 14.78it/s]"
     ]
    },
    {
     "name": "stdout",
     "output_type": "stream",
     "text": [
      "\tEpoch 172 complete! \tDenoising Loss:  0.014378930256964687\n"
     ]
    },
    {
     "name": "stderr",
     "output_type": "stream",
     "text": [
      "\n",
      "100%|██████████| 469/469 [00:31<00:00, 14.78it/s]"
     ]
    },
    {
     "name": "stdout",
     "output_type": "stream",
     "text": [
      "\tEpoch 173 complete! \tDenoising Loss:  0.014438254549765052\n"
     ]
    },
    {
     "name": "stderr",
     "output_type": "stream",
     "text": [
      "\n",
      "100%|██████████| 469/469 [00:31<00:00, 14.77it/s]"
     ]
    },
    {
     "name": "stdout",
     "output_type": "stream",
     "text": [
      "\tEpoch 174 complete! \tDenoising Loss:  0.014372692950881826\n"
     ]
    },
    {
     "name": "stderr",
     "output_type": "stream",
     "text": [
      "\n",
      "100%|██████████| 469/469 [00:31<00:00, 14.77it/s]"
     ]
    },
    {
     "name": "stdout",
     "output_type": "stream",
     "text": [
      "\tEpoch 175 complete! \tDenoising Loss:  0.014288165321987536\n"
     ]
    },
    {
     "name": "stderr",
     "output_type": "stream",
     "text": [
      "\n",
      "100%|██████████| 469/469 [00:31<00:00, 14.77it/s]"
     ]
    },
    {
     "name": "stdout",
     "output_type": "stream",
     "text": [
      "\tEpoch 176 complete! \tDenoising Loss:  0.014225161329914745\n"
     ]
    },
    {
     "name": "stderr",
     "output_type": "stream",
     "text": [
      "\n",
      "100%|██████████| 469/469 [00:31<00:00, 14.77it/s]"
     ]
    },
    {
     "name": "stdout",
     "output_type": "stream",
     "text": [
      "\tEpoch 177 complete! \tDenoising Loss:  0.014368268547770686\n"
     ]
    },
    {
     "name": "stderr",
     "output_type": "stream",
     "text": [
      "\n",
      "100%|██████████| 469/469 [00:31<00:00, 14.78it/s]"
     ]
    },
    {
     "name": "stdout",
     "output_type": "stream",
     "text": [
      "\tEpoch 178 complete! \tDenoising Loss:  0.014289430165504161\n"
     ]
    },
    {
     "name": "stderr",
     "output_type": "stream",
     "text": [
      "\n",
      "100%|██████████| 469/469 [00:31<00:00, 14.77it/s]"
     ]
    },
    {
     "name": "stdout",
     "output_type": "stream",
     "text": [
      "\tEpoch 179 complete! \tDenoising Loss:  0.01434807231824877\n"
     ]
    },
    {
     "name": "stderr",
     "output_type": "stream",
     "text": [
      "\n",
      "100%|██████████| 469/469 [00:31<00:00, 14.77it/s]"
     ]
    },
    {
     "name": "stdout",
     "output_type": "stream",
     "text": [
      "\tEpoch 180 complete! \tDenoising Loss:  0.014336323532729577\n"
     ]
    },
    {
     "name": "stderr",
     "output_type": "stream",
     "text": [
      "\n",
      "100%|██████████| 469/469 [00:31<00:00, 14.77it/s]"
     ]
    },
    {
     "name": "stdout",
     "output_type": "stream",
     "text": [
      "\tEpoch 181 complete! \tDenoising Loss:  0.014208028194470665\n"
     ]
    },
    {
     "name": "stderr",
     "output_type": "stream",
     "text": [
      "\n",
      "100%|██████████| 469/469 [00:31<00:00, 14.78it/s]\n"
     ]
    },
    {
     "name": "stdout",
     "output_type": "stream",
     "text": [
      "\tEpoch 182 complete! \tDenoising Loss:  0.01444132415116088\n"
     ]
    },
    {
     "name": "stderr",
     "output_type": "stream",
     "text": [
      "100%|██████████| 469/469 [00:31<00:00, 14.77it/s]"
     ]
    },
    {
     "name": "stdout",
     "output_type": "stream",
     "text": [
      "\tEpoch 183 complete! \tDenoising Loss:  0.01428394058607837\n"
     ]
    },
    {
     "name": "stderr",
     "output_type": "stream",
     "text": [
      "\n",
      "100%|██████████| 469/469 [00:31<00:00, 14.77it/s]"
     ]
    },
    {
     "name": "stdout",
     "output_type": "stream",
     "text": [
      "\tEpoch 184 complete! \tDenoising Loss:  0.014045887244626498\n"
     ]
    },
    {
     "name": "stderr",
     "output_type": "stream",
     "text": [
      "\n",
      "100%|██████████| 469/469 [00:31<00:00, 14.79it/s]"
     ]
    },
    {
     "name": "stdout",
     "output_type": "stream",
     "text": [
      "\tEpoch 185 complete! \tDenoising Loss:  0.014340498914512305\n"
     ]
    },
    {
     "name": "stderr",
     "output_type": "stream",
     "text": [
      "\n",
      "100%|██████████| 469/469 [00:31<00:00, 14.78it/s]"
     ]
    },
    {
     "name": "stdout",
     "output_type": "stream",
     "text": [
      "\tEpoch 186 complete! \tDenoising Loss:  0.014219269393266648\n"
     ]
    },
    {
     "name": "stderr",
     "output_type": "stream",
     "text": [
      "\n",
      "100%|██████████| 469/469 [00:31<00:00, 14.78it/s]"
     ]
    },
    {
     "name": "stdout",
     "output_type": "stream",
     "text": [
      "\tEpoch 187 complete! \tDenoising Loss:  0.01399757548306997\n"
     ]
    },
    {
     "name": "stderr",
     "output_type": "stream",
     "text": [
      "\n",
      "100%|██████████| 469/469 [00:31<00:00, 14.77it/s]"
     ]
    },
    {
     "name": "stdout",
     "output_type": "stream",
     "text": [
      "\tEpoch 188 complete! \tDenoising Loss:  0.01420260296187276\n"
     ]
    },
    {
     "name": "stderr",
     "output_type": "stream",
     "text": [
      "\n",
      "100%|██████████| 469/469 [00:31<00:00, 14.78it/s]"
     ]
    },
    {
     "name": "stdout",
     "output_type": "stream",
     "text": [
      "\tEpoch 189 complete! \tDenoising Loss:  0.01428443673822997\n"
     ]
    },
    {
     "name": "stderr",
     "output_type": "stream",
     "text": [
      "\n",
      "100%|██████████| 469/469 [00:31<00:00, 14.78it/s]"
     ]
    },
    {
     "name": "stdout",
     "output_type": "stream",
     "text": [
      "\tEpoch 190 complete! \tDenoising Loss:  0.014243224958101144\n"
     ]
    },
    {
     "name": "stderr",
     "output_type": "stream",
     "text": [
      "\n",
      "100%|██████████| 469/469 [00:31<00:00, 14.77it/s]"
     ]
    },
    {
     "name": "stdout",
     "output_type": "stream",
     "text": [
      "\tEpoch 191 complete! \tDenoising Loss:  0.014123589435242053\n"
     ]
    },
    {
     "name": "stderr",
     "output_type": "stream",
     "text": [
      "\n",
      "100%|██████████| 469/469 [00:31<00:00, 14.77it/s]"
     ]
    },
    {
     "name": "stdout",
     "output_type": "stream",
     "text": [
      "\tEpoch 192 complete! \tDenoising Loss:  0.013950478966132952\n"
     ]
    },
    {
     "name": "stderr",
     "output_type": "stream",
     "text": [
      "\n",
      "100%|██████████| 469/469 [00:31<00:00, 14.76it/s]"
     ]
    },
    {
     "name": "stdout",
     "output_type": "stream",
     "text": [
      "\tEpoch 193 complete! \tDenoising Loss:  0.014153038173452275\n"
     ]
    },
    {
     "name": "stderr",
     "output_type": "stream",
     "text": [
      "\n",
      "100%|██████████| 469/469 [00:31<00:00, 14.78it/s]"
     ]
    },
    {
     "name": "stdout",
     "output_type": "stream",
     "text": [
      "\tEpoch 194 complete! \tDenoising Loss:  0.014292071738606717\n"
     ]
    },
    {
     "name": "stderr",
     "output_type": "stream",
     "text": [
      "\n",
      "100%|██████████| 469/469 [00:31<00:00, 14.77it/s]"
     ]
    },
    {
     "name": "stdout",
     "output_type": "stream",
     "text": [
      "\tEpoch 195 complete! \tDenoising Loss:  0.014140698899570694\n"
     ]
    },
    {
     "name": "stderr",
     "output_type": "stream",
     "text": [
      "\n",
      "100%|██████████| 469/469 [00:31<00:00, 14.77it/s]"
     ]
    },
    {
     "name": "stdout",
     "output_type": "stream",
     "text": [
      "\tEpoch 196 complete! \tDenoising Loss:  0.01429533096165675\n"
     ]
    },
    {
     "name": "stderr",
     "output_type": "stream",
     "text": [
      "\n",
      "100%|██████████| 469/469 [00:31<00:00, 14.78it/s]"
     ]
    },
    {
     "name": "stdout",
     "output_type": "stream",
     "text": [
      "\tEpoch 197 complete! \tDenoising Loss:  0.01410885358778521\n"
     ]
    },
    {
     "name": "stderr",
     "output_type": "stream",
     "text": [
      "\n",
      "100%|██████████| 469/469 [00:31<00:00, 14.78it/s]"
     ]
    },
    {
     "name": "stdout",
     "output_type": "stream",
     "text": [
      "\tEpoch 198 complete! \tDenoising Loss:  0.014193240959101763\n"
     ]
    },
    {
     "name": "stderr",
     "output_type": "stream",
     "text": [
      "\n",
      "100%|██████████| 469/469 [00:31<00:00, 14.78it/s]"
     ]
    },
    {
     "name": "stdout",
     "output_type": "stream",
     "text": [
      "\tEpoch 199 complete! \tDenoising Loss:  0.014218779822063243\n"
     ]
    },
    {
     "name": "stderr",
     "output_type": "stream",
     "text": [
      "\n",
      "100%|██████████| 469/469 [00:31<00:00, 14.78it/s]"
     ]
    },
    {
     "name": "stdout",
     "output_type": "stream",
     "text": [
      "\tEpoch 200 complete! \tDenoising Loss:  0.014147561849453129\n",
      "Finish!!\n"
     ]
    },
    {
     "name": "stderr",
     "output_type": "stream",
     "text": [
      "\n"
     ]
    }
   ],
   "source": [
    "print(\"Start training DDPMs...\")\n",
    "model.train()\n",
    "\n",
    "for epoch in range(epochs):\n",
    "    noise_prediction_loss = 0\n",
    "    for batch_idx, (x, _) in tqdm(enumerate(train_loader), total=len(train_loader)):\n",
    "         \n",
    "        x_zeros = x.to(DEVICE) \n",
    "        B = x_zeros.shape[0] \n",
    "        \n",
    "        t = torch.randint(low=0, high=ms.T, size=(B,)).long().to(ms.device)  \n",
    "        xt, eps = ms.get_xt(x_zeros, t)\n",
    "        \n",
    "        pred_eps=model(xt, t) \n",
    "        loss=loss_fn(eps, pred_eps) \n",
    "        \n",
    "        optimizer.zero_grad() \n",
    "        loss.backward()\n",
    "        optimizer.step()\n",
    "        noise_prediction_loss += loss.item()\n",
    "        \n",
    "        \n",
    "    print(\"\\tEpoch\", epoch + 1, \"complete!\", \"\\tDenoising Loss: \", noise_prediction_loss / batch_idx)\n",
    "    \n",
    "print(\"Finish!!\")"
   ]
  },
  {
   "cell_type": "code",
   "execution_count": 24,
   "id": "77a72cd8",
   "metadata": {},
   "outputs": [
    {
     "data": {
      "text/plain": [
       "torch.Size([1, 1, 28, 28])"
      ]
     },
     "execution_count": 24,
     "metadata": {},
     "output_type": "execute_result"
    }
   ],
   "source": [
    "x,xts=ddpm.sample_ddpm(1, (1, 28, 28))\n",
    "x.shape"
   ]
  },
  {
   "cell_type": "code",
   "execution_count": 25,
   "id": "11974780",
   "metadata": {},
   "outputs": [
    {
     "data": {
      "text/plain": [
       "<matplotlib.image.AxesImage at 0x7076a0dbef10>"
      ]
     },
     "execution_count": 25,
     "metadata": {},
     "output_type": "execute_result"
    },
    {
     "data": {
      "image/png": "[encoded data removed]",
      "text/plain": [
       "<Figure size 640x480 with 1 Axes>"
      ]
     },
     "metadata": {},
     "output_type": "display_data"
    }
   ],
   "source": [
    "tx=x.detach().cpu().numpy().squeeze()\n",
    "plt.imshow(tx)"
   ]
  },
  {
   "cell_type": "code",
   "execution_count": 26,
   "id": "ae9f9f62",
   "metadata": {},
   "outputs": [
    {
     "data": {
      "text/plain": [
       "64"
      ]
     },
     "execution_count": 26,
     "metadata": {},
     "output_type": "execute_result"
    }
   ],
   "source": [
    "inference_batch_size"
   ]
  },
  {
   "cell_type": "code",
   "execution_count": null,
   "id": "d133982a",
   "metadata": {},
   "outputs": [],
   "source": []
  },
  {
   "cell_type": "code",
   "execution_count": 27,
   "id": "4eb04324",
   "metadata": {},
   "outputs": [
    {
     "data": {
      "text/plain": [
       "torch.Size([64, 1, 28, 28])"
      ]
     },
     "execution_count": 27,
     "metadata": {},
     "output_type": "execute_result"
    }
   ],
   "source": [
    "x,xts=ddpm.sample_ddpm(inference_batch_size, (1, 28, 28))\n",
    "x.shape"
   ]
  },
  {
   "cell_type": "code",
   "execution_count": 28,
   "id": "51d5b115",
   "metadata": {},
   "outputs": [
    {
     "data": {
      "text/plain": [
       "torch.Size([64, 1, 28, 28])"
      ]
     },
     "execution_count": 28,
     "metadata": {},
     "output_type": "execute_result"
    }
   ],
   "source": [
    "batch=next(iter(test_loader))\n",
    "Xt, yt = batch\n",
    "Xt.shape"
   ]
  },
  {
   "cell_type": "code",
   "execution_count": null,
   "id": "070fcbad",
   "metadata": {},
   "outputs": [],
   "source": []
  },
  {
   "cell_type": "markdown",
   "id": "4560ce83",
   "metadata": {},
   "source": [
    "### Comparison with ground-truth samples"
   ]
  },
  {
   "cell_type": "code",
   "execution_count": 29,
   "id": "545d5117",
   "metadata": {},
   "outputs": [],
   "source": [
    "def draw_sample_image(x, postfix):\n",
    "  \n",
    "    plt.figure(figsize=(8,8))\n",
    "    plt.axis(\"off\")\n",
    "    plt.title(\"Visualization of {}\".format(postfix))\n",
    "    plt.imshow(np.transpose(make_grid(x.detach().cpu(), padding=2, normalize=True), (1, 2, 0)))"
   ]
  },
  {
   "cell_type": "code",
   "execution_count": 30,
   "id": "ca778c74",
   "metadata": {},
   "outputs": [],
   "source": [
    "# draw_sample_image(perturbed_images, \"Perturbed Images\")"
   ]
  },
  {
   "cell_type": "code",
   "execution_count": 31,
   "id": "e26440ac",
   "metadata": {},
   "outputs": [
    {
     "data": {
      "image/png": "[encoded data removed]",
      "text/plain": [
       "<Figure size 800x800 with 1 Axes>"
      ]
     },
     "metadata": {},
     "output_type": "display_data"
    }
   ],
   "source": [
    "draw_sample_image(x, \"Generated Images\")"
   ]
  },
  {
   "cell_type": "code",
   "execution_count": 32,
   "id": "38afdd7a",
   "metadata": {},
   "outputs": [
    {
     "data": {
      "image/png": "[encoded data removed]",
      "text/plain": [
       "<Figure size 800x800 with 1 Axes>"
      ]
     },
     "metadata": {},
     "output_type": "display_data"
    }
   ],
   "source": [
    "draw_sample_image(Xt[:inference_batch_size], \"Ground-truth Images\")"
   ]
  },
  {
   "cell_type": "code",
   "execution_count": null,
   "id": "b4462d1a",
   "metadata": {},
   "outputs": [],
   "source": []
  },
  {
   "cell_type": "code",
   "execution_count": 60,
   "id": "9125f83d",
   "metadata": {},
   "outputs": [
    {
     "data": {
      "text/plain": [
       "torch.Size([1, 1, 28, 28])"
      ]
     },
     "execution_count": 60,
     "metadata": {},
     "output_type": "execute_result"
    }
   ],
   "source": [
    "x,xts=ddpm.sample_ddpm(1, (1, 28, 28))\n",
    "x.shape"
   ]
  },
  {
   "cell_type": "code",
   "execution_count": 61,
   "id": "c5bc610d",
   "metadata": {},
   "outputs": [
    {
     "data": {
      "text/plain": [
       "1000"
      ]
     },
     "execution_count": 61,
     "metadata": {},
     "output_type": "execute_result"
    }
   ],
   "source": [
    "xtss=[x.detach().cpu().numpy().squeeze() for x in xts]\n",
    "len(xtss)"
   ]
  },
  {
   "cell_type": "code",
   "execution_count": 62,
   "id": "da4d4b2a",
   "metadata": {},
   "outputs": [
    {
     "data": {
      "text/plain": [
       "(1000, (28, 28), (28, 28))"
      ]
     },
     "execution_count": 62,
     "metadata": {},
     "output_type": "execute_result"
    }
   ],
   "source": [
    "len(xtss), xtss[0].shape, xtss[1].shape"
   ]
  },
  {
   "cell_type": "code",
   "execution_count": 63,
   "id": "7787524d",
   "metadata": {},
   "outputs": [
    {
     "data": {
      "image/png": "[encoded data removed]",
      "text/plain": [
       "<Figure size 1000x400 with 7 Axes>"
      ]
     },
     "metadata": {},
     "output_type": "display_data"
    }
   ],
   "source": [
    "st=[0, 600,  800, 850, 900, 950, 999]\n",
    "\n",
    "plt.figure(figsize=(10, 4))\n",
    "for i in st:\n",
    "    plt.subplot(1, len(st), st.index(i)+1)\n",
    "    plt.imshow(xtss[i])\n",
    "    plt.title(f\"t={999-i}\") \n",
    "    plt.gca().set_aspect('equal')"
   ]
  },
  {
   "cell_type": "code",
   "execution_count": 64,
   "id": "18757b63",
   "metadata": {},
   "outputs": [],
   "source": [
    "import imageio\n",
    "\n",
    "imageio.mimsave('ddpm_mnist2.gif', xtss, fps=15)"
   ]
  },
  {
   "cell_type": "code",
   "execution_count": 65,
   "id": "c7efdc1d",
   "metadata": {},
   "outputs": [
    {
     "data": {
      "image/png": "[encoded data removed]",
      "text/plain": [
       "<Figure size 640x480 with 1 Axes>"
      ]
     },
     "metadata": {},
     "output_type": "display_data"
    }
   ],
   "source": [
    "import matplotlib.animation as animation\n",
    "\n",
    "\n",
    "fig = plt.figure()\n",
    "ims = []\n",
    "for i in range(len(xtss)):\n",
    "    im = plt.imshow(xtss[i], cmap=\"gray\", animated=True)\n",
    "    ims.append([im])\n",
    "\n",
    "animate = animation.ArtistAnimation(fig, ims, interval=10, blit=True, repeat_delay=1000)\n",
    "animate.save('ddpm_mnist22.gif')\n",
    "plt.show()"
   ]
  },
  {
   "cell_type": "code",
   "execution_count": 80,
   "id": "26e14dac",
   "metadata": {},
   "outputs": [
    {
     "data": {
      "image/png": "[encoded data removed]",
      "text/plain": [
       "<Figure size 640x480 with 1 Axes>"
      ]
     },
     "metadata": {},
     "output_type": "display_data"
    }
   ],
   "source": [
    "fig = plt.figure()\n",
    "ims = []\n",
    "\n",
    "# for i in range(0, len(xtss),10):\n",
    "i=0\n",
    "while i < len(xtss):\n",
    "    im = plt.imshow(xtss[i], cmap=\"gray\", animated=True)  # Image for the current timestep\n",
    "    timestep_text = plt.text(0.5, 1.05, f\"Timestep: {i}\", \n",
    "                             fontsize=12, ha=\"center\", va=\"center\", transform=plt.gca().transAxes) \n",
    "    ims.append([im, timestep_text])  # Add the image and text to the frame\n",
    "    \n",
    "    if i>900:\n",
    "        i +=5\n",
    "    elif i>700:\n",
    "        i +=10\n",
    "    else:\n",
    "        i = i + 20  # Skip 10 timesteps to speed up the animation\n",
    "    \n",
    "\n",
    "\n",
    "# Repeat the last frame to create a pause\n",
    "pause_frames = 20  # Adjust the number of frames to control pause duration\n",
    "for j in range(pause_frames):\n",
    "    im = plt.imshow(xtss[-1], cmap=\"gray\", animated=True)\n",
    "    timestep_text = plt.text(0.5, 1.05, f\"Timestep: {len(xtss) - 1}\",\n",
    "                             fontsize=12, ha=\"center\", va=\"center\", transform=plt.gca().transAxes)\n",
    "    ims.append([im, timestep_text])\n",
    "\n",
    "\n",
    "animate = animation.ArtistAnimation(fig, ims, interval=2, blit=True, repeat_delay=3000)\n",
    "animate.save('ddpm_mnist22.gif')\n",
    "plt.show()"
   ]
  },
  {
   "cell_type": "code",
   "execution_count": null,
   "id": "49d06b95",
   "metadata": {},
   "outputs": [],
   "source": []
  },
  {
   "cell_type": "code",
   "execution_count": null,
   "id": "c593798f",
   "metadata": {},
   "outputs": [],
   "source": []
  },
  {
   "cell_type": "code",
   "execution_count": null,
   "id": "1abcbfd4",
   "metadata": {},
   "outputs": [],
   "source": []
  }
 ],
 "metadata": {
  "kernelspec": {
   "display_name": "Python 3 (ipykernel)",
   "language": "python",
   "name": "python3"
  },
  "language_info": {
   "codemirror_mode": {
    "name": "ipython",
    "version": 3
   },
   "file_extension": ".py",
   "mimetype": "text/x-python",
   "name": "python",
   "nbconvert_exporter": "python",
   "pygments_lexer": "ipython3",
   "version": "3.8.19"
  }
 },
 "nbformat": 4,
 "nbformat_minor": 5
}
